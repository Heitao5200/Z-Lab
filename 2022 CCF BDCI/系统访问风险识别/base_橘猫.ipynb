{
 "cells": [
  {
   "cell_type": "code",
   "execution_count": 46,
   "id": "a2047826",
   "metadata": {
    "ExecuteTime": {
     "end_time": "2022-09-05T04:04:20.645642Z",
     "start_time": "2022-09-05T04:04:20.626689Z"
    }
   },
   "outputs": [],
   "source": [
    "import pandas as pd\n",
    "import numpy as np\n",
    "import lightgbm as lgb\n",
    "from tqdm.notebook import tqdm\n",
    "from sklearn import preprocessing\n",
    "import seaborn as sns\n",
    "from sklearn.model_selection import StratifiedKFold\n",
    "from gensim.models.word2vec import Word2Vec\n",
    "from sklearn.preprocessing import LabelEncoder\n",
    "from sklearn.metrics import roc_auc_score\n",
    "import xgboost as xgb\n",
    "import matplotlib.pyplot as plt\n",
    "from pyod.models.iforest import IForest\n",
    "import gc\n",
    "import warnings\n",
    "warnings.simplefilter('ignore')"
   ]
  },
  {
   "cell_type": "code",
   "execution_count": 47,
   "id": "b63d6ade",
   "metadata": {
    "ExecuteTime": {
     "end_time": "2022-09-05T04:04:21.313236Z",
     "start_time": "2022-09-05T04:04:21.021276Z"
    }
   },
   "outputs": [],
   "source": [
    "train = pd.read_csv('train.csv')\n",
    "test = pd.read_csv('evaluation_public.csv')\n",
    "sub = pd.read_csv('submit_sample.csv')\n",
    "\n",
    "\n",
    "data = pd.concat([train,test]).reset_index(drop = True)\n",
    "data['op_datetime'] = pd.to_datetime(data['op_datetime'])\n",
    "data = data.sort_values(by=['user_name', 'op_datetime']).reset_index(drop=True)"
   ]
  },
  {
   "cell_type": "code",
   "execution_count": 48,
   "id": "22a09a10",
   "metadata": {
    "ExecuteTime": {
     "end_time": "2022-09-05T04:04:22.089290Z",
     "start_time": "2022-09-05T04:04:21.679386Z"
    }
   },
   "outputs": [],
   "source": [
    "data['min'] = data['op_datetime'].apply(lambda x: int(str(x)[-5:-3]))\n",
    "data['min_sin'] = np.sin(data['min']/60*2*np.pi)\n",
    "data['min_cos'] = np.cos(data['min']/60*2*np.pi)"
   ]
  },
  {
   "cell_type": "code",
   "execution_count": 50,
   "id": "9dd72be6",
   "metadata": {
    "ExecuteTime": {
     "end_time": "2022-09-05T04:04:25.972626Z",
     "start_time": "2022-09-05T04:04:25.807065Z"
    }
   },
   "outputs": [],
   "source": [
    "data['hour'] = data['op_datetime'].dt.hour\n",
    "data['weekday'] = data['op_datetime'].dt.weekday\n",
    "data['year'] = data['op_datetime'].dt.year\n",
    "data['month'] = data['op_datetime'].dt.month\n",
    "data['day'] = data['op_datetime'].dt.day\n",
    "data['dayofyear'] = data['op_datetime'].dt.dayofyear\n",
    "data['weekofyear'] = data['op_datetime'].dt.weekofyear\n",
    "data = data.sort_values(by=['user_name', 'op_datetime']).reset_index(drop=True)\n",
    "\n",
    "data['op_ts'] = data[\"op_datetime\"].values.astype(np.int64) // 10 ** 9\n",
    "data = data.sort_values(by=['user_name', 'op_ts']).reset_index(drop=True)\n",
    "data['last_ts'] = data.groupby(['user_name'])['op_ts'].shift(1)\n",
    "data['last_ts2'] = data.groupby(['user_name'])['op_ts'].shift(2)\n",
    "data['last_ts3'] = data.groupby(['user_name'])['op_ts'].shift(3)\n",
    "data['ts_diff'] = data['op_ts'] - data['last_ts']\n",
    "data['ts_diff2'] = data['op_ts'] - data['last_ts2']\n",
    "data['ts_diff3'] = data['op_ts'] - data['last_ts3']"
   ]
  },
  {
   "cell_type": "code",
   "execution_count": 51,
   "id": "8c72e9ef",
   "metadata": {
    "ExecuteTime": {
     "end_time": "2022-09-05T04:04:28.635484Z",
     "start_time": "2022-09-05T04:04:28.442981Z"
    }
   },
   "outputs": [
    {
     "data": {
      "application/vnd.jupyter.widget-view+json": {
       "model_id": "e81e2dd757294726ac0575af47d0d391",
       "version_major": 2,
       "version_minor": 0
      },
      "text/plain": [
       "  0%|          | 0/13 [00:00<?, ?it/s]"
      ]
     },
     "metadata": {},
     "output_type": "display_data"
    }
   ],
   "source": [
    "for col in tqdm(['user_name', 'department', 'ip_transform', 'device_num_transform',\n",
    "       'browser_version', 'browser', 'os_type', 'os_version', \n",
    "       'ip_type', 'http_status_code', 'op_city', 'log_system_transform', 'url',]):\n",
    "    le = LabelEncoder()\n",
    "    data[col] = le.fit_transform(data[col])"
   ]
  },
  {
   "cell_type": "code",
   "execution_count": 63,
   "id": "be5f1f23",
   "metadata": {
    "ExecuteTime": {
     "end_time": "2022-09-05T04:11:38.864761Z",
     "start_time": "2022-09-05T04:11:38.832817Z"
    }
   },
   "outputs": [],
   "source": [
    "train = data[data['is_risk'].notnull()].reset_index(drop = True)\n",
    "test = data[~data['is_risk'].notnull()].reset_index(drop = True)\n",
    "feas=[i  for i in train.columns.tolist() if i not in ['id', 'is_risk','ip_type','op_month','op_datetime','dayofyear','weekofyear',\n",
    "                                                        'month','op_ts','year','last_ts','last_ts2','last_ts3','day',\n",
    "                                                        ]]\n",
    "\n",
    "x_train = train[feas]\n",
    "y_train = train['is_risk']\n",
    "x_test = test[feas]"
   ]
  },
  {
   "cell_type": "code",
   "execution_count": 77,
   "id": "a2f9e619",
   "metadata": {
    "ExecuteTime": {
     "end_time": "2022-09-05T04:18:20.642402Z",
     "start_time": "2022-09-05T04:18:20.629436Z"
    }
   },
   "outputs": [
    {
     "data": {
      "text/plain": [
       "(47660, 20)"
      ]
     },
     "execution_count": 77,
     "metadata": {},
     "output_type": "execute_result"
    }
   ],
   "source": [
    "x_train.shape"
   ]
  },
  {
   "cell_type": "code",
   "execution_count": 73,
   "id": "1c7c439d",
   "metadata": {
    "ExecuteTime": {
     "end_time": "2022-09-05T04:17:44.634757Z",
     "start_time": "2022-09-05T04:17:28.439294Z"
    },
    "scrolled": true
   },
   "outputs": [
    {
     "name": "stdout",
     "output_type": "stream",
     "text": [
      "************************************ 1 ************************************\n",
      "[LightGBM] [Warning] num_threads is set with nthread=32, will be overridden by n_jobs=8. Current value: num_threads=8\n",
      "[LightGBM] [Warning] Unknown parameter: silent\n",
      "Training until validation scores don't improve for 200 rounds\n",
      "[200]\ttraining's auc: 0.921324\tvalid_1's auc: 0.901206\n",
      "[400]\ttraining's auc: 0.932121\tvalid_1's auc: 0.903044\n",
      "[600]\ttraining's auc: 0.940511\tvalid_1's auc: 0.904142\n",
      "[800]\ttraining's auc: 0.947135\tvalid_1's auc: 0.905227\n",
      "[1000]\ttraining's auc: 0.952392\tvalid_1's auc: 0.905614\n",
      "[1200]\ttraining's auc: 0.956827\tvalid_1's auc: 0.906144\n",
      "[1400]\ttraining's auc: 0.960944\tvalid_1's auc: 0.906337\n",
      "[1600]\ttraining's auc: 0.963982\tvalid_1's auc: 0.906249\n",
      "Early stopping, best iteration is:\n",
      "[1424]\ttraining's auc: 0.961305\tvalid_1's auc: 0.90652\n",
      "[('ip_transform', 2552), ('ts_diff', 2410), ('ts_diff3', 2060), ('hour', 2039), ('ts_diff2', 1880), ('device_num_transform', 1664), ('user_name', 1569), ('min', 1332), ('min_cos', 1051), ('min_sin', 987), ('weekday', 939), ('op_city', 512), ('url', 502), ('browser_version', 449), ('department', 416), ('http_status_code', 406), ('log_system_transform', 384), ('os_version', 125), ('browser', 70), ('os_type', 13)]\n",
      "[0.9065204633651586]\n",
      "************************************ 2 ************************************\n",
      "[LightGBM] [Warning] num_threads is set with nthread=32, will be overridden by n_jobs=8. Current value: num_threads=8\n",
      "[LightGBM] [Warning] Unknown parameter: silent\n",
      "Training until validation scores don't improve for 200 rounds\n",
      "[200]\ttraining's auc: 0.9183\tvalid_1's auc: 0.913844\n",
      "[400]\ttraining's auc: 0.930441\tvalid_1's auc: 0.916008\n",
      "[600]\ttraining's auc: 0.939453\tvalid_1's auc: 0.917079\n",
      "Early stopping, best iteration is:\n",
      "[578]\ttraining's auc: 0.938533\tvalid_1's auc: 0.91733\n",
      "[('hour', 1276), ('ts_diff', 1095), ('ip_transform', 835), ('ts_diff2', 760), ('ts_diff3', 743), ('user_name', 654), ('min', 594), ('device_num_transform', 488), ('weekday', 437), ('min_cos', 310), ('min_sin', 304), ('http_status_code', 252), ('op_city', 208), ('department', 191), ('url', 184), ('browser_version', 152), ('log_system_transform', 120), ('browser', 35), ('os_version', 27), ('os_type', 5)]\n",
      "[0.9065204633651586, 0.9173302793290459]\n",
      "************************************ 3 ************************************\n",
      "[LightGBM] [Warning] num_threads is set with nthread=32, will be overridden by n_jobs=8. Current value: num_threads=8\n",
      "[LightGBM] [Warning] Unknown parameter: silent\n",
      "Training until validation scores don't improve for 200 rounds\n",
      "[200]\ttraining's auc: 0.918834\tvalid_1's auc: 0.911948\n",
      "[400]\ttraining's auc: 0.931484\tvalid_1's auc: 0.913435\n",
      "[600]\ttraining's auc: 0.940383\tvalid_1's auc: 0.915386\n",
      "[800]\ttraining's auc: 0.946649\tvalid_1's auc: 0.916363\n",
      "Early stopping, best iteration is:\n",
      "[710]\ttraining's auc: 0.944083\tvalid_1's auc: 0.916393\n",
      "[('hour', 1498), ('ts_diff', 1268), ('ip_transform', 1116), ('ts_diff3', 944), ('ts_diff2', 907), ('user_name', 770), ('min', 731), ('device_num_transform', 671), ('weekday', 493), ('min_cos', 423), ('min_sin', 332), ('department', 289), ('http_status_code', 252), ('url', 239), ('op_city', 230), ('log_system_transform', 199), ('browser_version', 178), ('os_version', 67), ('browser', 30), ('os_type', 13)]\n",
      "[0.9065204633651586, 0.9173302793290459, 0.9163931370423454]\n",
      "************************************ 4 ************************************\n",
      "[LightGBM] [Warning] num_threads is set with nthread=32, will be overridden by n_jobs=8. Current value: num_threads=8\n",
      "[LightGBM] [Warning] Unknown parameter: silent\n",
      "Training until validation scores don't improve for 200 rounds\n",
      "[200]\ttraining's auc: 0.917307\tvalid_1's auc: 0.920778\n",
      "[400]\ttraining's auc: 0.930243\tvalid_1's auc: 0.922194\n",
      "[600]\ttraining's auc: 0.94006\tvalid_1's auc: 0.92267\n",
      "[800]\ttraining's auc: 0.947713\tvalid_1's auc: 0.922845\n",
      "[1000]\ttraining's auc: 0.952637\tvalid_1's auc: 0.923218\n",
      "[1200]\ttraining's auc: 0.956841\tvalid_1's auc: 0.923149\n",
      "Early stopping, best iteration is:\n",
      "[1068]\ttraining's auc: 0.954236\tvalid_1's auc: 0.923357\n",
      "[('ip_transform', 1867), ('ts_diff', 1818), ('hour', 1792), ('ts_diff3', 1589), ('ts_diff2', 1479), ('device_num_transform', 1128), ('user_name', 1118), ('min', 973), ('min_cos', 715), ('min_sin', 706), ('weekday', 706), ('op_city', 389), ('department', 348), ('http_status_code', 345), ('url', 333), ('browser_version', 323), ('log_system_transform', 248), ('os_version', 81), ('browser', 54), ('os_type', 8)]\n",
      "[0.9065204633651586, 0.9173302793290459, 0.9163931370423454, 0.9233574423104297]\n",
      "************************************ 5 ************************************\n",
      "[LightGBM] [Warning] num_threads is set with nthread=32, will be overridden by n_jobs=8. Current value: num_threads=8\n",
      "[LightGBM] [Warning] Unknown parameter: silent\n",
      "Training until validation scores don't improve for 200 rounds\n",
      "[200]\ttraining's auc: 0.918195\tvalid_1's auc: 0.916029\n",
      "[400]\ttraining's auc: 0.93007\tvalid_1's auc: 0.91809\n",
      "[600]\ttraining's auc: 0.938579\tvalid_1's auc: 0.919298\n",
      "[800]\ttraining's auc: 0.94551\tvalid_1's auc: 0.920387\n",
      "[1000]\ttraining's auc: 0.950896\tvalid_1's auc: 0.921253\n",
      "[1200]\ttraining's auc: 0.955773\tvalid_1's auc: 0.921412\n",
      "[1400]\ttraining's auc: 0.95981\tvalid_1's auc: 0.92218\n",
      "[1600]\ttraining's auc: 0.963139\tvalid_1's auc: 0.922088\n",
      "Early stopping, best iteration is:\n",
      "[1458]\ttraining's auc: 0.960771\tvalid_1's auc: 0.922396\n",
      "[('ip_transform', 2575), ('ts_diff', 2425), ('ts_diff3', 2195), ('hour', 2147), ('ts_diff2', 2039), ('user_name', 1632), ('device_num_transform', 1632), ('min', 1363), ('min_sin', 1014), ('min_cos', 985), ('weekday', 956), ('op_city', 533), ('url', 528), ('department', 450), ('browser_version', 428), ('log_system_transform', 385), ('http_status_code', 384), ('os_version', 123), ('browser', 62), ('os_type', 14)]\n",
      "[0.9065204633651586, 0.9173302793290459, 0.9163931370423454, 0.9233574423104297, 0.9223962192712193]\n",
      "scotrainre_list: [0.9065204633651586, 0.9173302793290459, 0.9163931370423454, 0.9233574423104297, 0.9223962192712193]\n",
      "score_mean: 0.9171995082636398\n",
      "score_std: 0.0059939184609530596\n"
     ]
    }
   ],
   "source": [
    "def cv_model(clf, train_x, train_y, test_x):\n",
    "    folds = 5\n",
    "    seed = 1111\n",
    "    kf = StratifiedKFold(n_splits=folds, shuffle=True, random_state=seed)\n",
    "\n",
    "    train = np.zeros(train_x.shape[0])\n",
    "    test = np.zeros(test_x.shape[0])\n",
    "\n",
    "    cv_scores = []\n",
    "    test_pre = []\n",
    "    Feass = pd.DataFrame()\n",
    "\n",
    "    for i, (train_index, valid_index) in enumerate(kf.split(train_x, train_y)):\n",
    "        print('************************************ {} ************************************'.format(str(i+1)))\n",
    "        trn_x, trn_y, val_x, val_y = train_x.iloc[train_index], train_y[train_index], train_x.iloc[valid_index], train_y[valid_index]\n",
    "\n",
    "        \n",
    "        \n",
    "        train_matrix = clf.Dataset(trn_x, label=trn_y)\n",
    "        valid_matrix = clf.Dataset(val_x, label=val_y)\n",
    "\n",
    "        fea = pd.DataFrame()\n",
    "\n",
    "        params = {\n",
    "            'boosting_type': 'gbdt',\n",
    "            'objective': 'binary',\n",
    "            'tree_learner':'serial',\n",
    "            'metric': 'AUC',\n",
    "            'min_child_weight': 4,\n",
    "            'num_leaves': 2 ** 4,\n",
    "            'feature_fraction': 0.8,\n",
    "            'bagging_fraction': 0.8,\n",
    "            'bagging_freq': 4,\n",
    "            'learning_rate': 0.02,\n",
    "            'seed': seed,\n",
    "            'nthread': 32,\n",
    "            'n_jobs':8,\n",
    "            'silent': True,\n",
    "            'verbose': -1,\n",
    "        }\n",
    "\n",
    "        model = clf.train(params, train_matrix, num_boost_round=2000, valid_sets=[train_matrix, valid_matrix], \n",
    "                          categorical_feature =[] ,verbose_eval=200,early_stopping_rounds=200)\n",
    "        val_pred = model.predict(val_x, num_iteration=model.best_iteration)\n",
    "        test_pred = model.predict(test_x, num_iteration=model.best_iteration)\n",
    "        test_pre.append(test_pred)\n",
    "        fea['feas'] = train_x.columns.tolist()\n",
    "        fea['sorce'] = model.feature_importance()\n",
    "        Feass = pd.concat([Feass,fea],axis = 0)\n",
    "        print(list(sorted(zip(train_x.columns.tolist(), model.feature_importance()), key=lambda x: x[1], reverse=True))[:20])\n",
    "            \n",
    "            \n",
    "        train[valid_index] = val_pred\n",
    "        test = test_pred\n",
    "        cv_scores.append(roc_auc_score(val_y, val_pred))\n",
    "        \n",
    "        \n",
    "        print(cv_scores)\n",
    "    test = sum(test_pre) / folds\n",
    "    print(\"scotrainre_list:\" , cv_scores)\n",
    "    print(\"score_mean:\" ,np.mean(cv_scores))\n",
    "    print(\"score_std:\" ,np.std(cv_scores))\n",
    "    \n",
    "    return train, test, Feass\n",
    "\n",
    "lgb_train, lgb_test, Feass = cv_model(lgb,x_train, y_train, x_test)"
   ]
  },
  {
   "cell_type": "code",
   "execution_count": 74,
   "id": "def1d0b6",
   "metadata": {
    "ExecuteTime": {
     "end_time": "2022-09-05T04:17:49.240139Z",
     "start_time": "2022-09-05T04:17:49.222187Z"
    }
   },
   "outputs": [
    {
     "data": {
      "text/plain": [
       "array([0.19835248, 0.06393448, 0.01864974, ..., 0.01557806, 0.04257049,\n",
       "       0.03008062])"
      ]
     },
     "execution_count": 74,
     "metadata": {},
     "output_type": "execute_result"
    }
   ],
   "source": [
    "lgb_test"
   ]
  },
  {
   "cell_type": "code",
   "execution_count": 75,
   "id": "bd2219e8",
   "metadata": {
    "ExecuteTime": {
     "end_time": "2022-09-05T04:18:08.304609Z",
     "start_time": "2022-09-05T04:18:08.229810Z"
    }
   },
   "outputs": [],
   "source": [
    "sub.columns = ['id','is_risk']\n",
    "test['is_risk'] = lgb_test\n",
    "test = test.sort_values(['id']).reset_index(drop = True)\n",
    "sub['is_risk'] = test['is_risk'].values\n",
    "sub.to_csv('base_0905_0.91719.csv', index = False)"
   ]
  },
  {
   "cell_type": "code",
   "execution_count": 76,
   "id": "31cfa178",
   "metadata": {
    "ExecuteTime": {
     "end_time": "2022-09-05T04:18:08.927588Z",
     "start_time": "2022-09-05T04:18:08.908648Z"
    }
   },
   "outputs": [
    {
     "data": {
      "text/html": [
       "<div>\n",
       "<style scoped>\n",
       "    .dataframe tbody tr th:only-of-type {\n",
       "        vertical-align: middle;\n",
       "    }\n",
       "\n",
       "    .dataframe tbody tr th {\n",
       "        vertical-align: top;\n",
       "    }\n",
       "\n",
       "    .dataframe thead th {\n",
       "        text-align: right;\n",
       "    }\n",
       "</style>\n",
       "<table border=\"1\" class=\"dataframe\">\n",
       "  <thead>\n",
       "    <tr style=\"text-align: right;\">\n",
       "      <th></th>\n",
       "      <th>id</th>\n",
       "      <th>is_risk</th>\n",
       "    </tr>\n",
       "  </thead>\n",
       "  <tbody>\n",
       "    <tr>\n",
       "      <th>0</th>\n",
       "      <td>0</td>\n",
       "      <td>0.198352</td>\n",
       "    </tr>\n",
       "    <tr>\n",
       "      <th>1</th>\n",
       "      <td>1</td>\n",
       "      <td>0.063934</td>\n",
       "    </tr>\n",
       "    <tr>\n",
       "      <th>2</th>\n",
       "      <td>2</td>\n",
       "      <td>0.018650</td>\n",
       "    </tr>\n",
       "    <tr>\n",
       "      <th>3</th>\n",
       "      <td>3</td>\n",
       "      <td>0.414391</td>\n",
       "    </tr>\n",
       "    <tr>\n",
       "      <th>4</th>\n",
       "      <td>4</td>\n",
       "      <td>0.254039</td>\n",
       "    </tr>\n",
       "    <tr>\n",
       "      <th>...</th>\n",
       "      <td>...</td>\n",
       "      <td>...</td>\n",
       "    </tr>\n",
       "    <tr>\n",
       "      <th>25705</th>\n",
       "      <td>25705</td>\n",
       "      <td>0.020595</td>\n",
       "    </tr>\n",
       "    <tr>\n",
       "      <th>25706</th>\n",
       "      <td>25706</td>\n",
       "      <td>0.016024</td>\n",
       "    </tr>\n",
       "    <tr>\n",
       "      <th>25707</th>\n",
       "      <td>25707</td>\n",
       "      <td>0.015578</td>\n",
       "    </tr>\n",
       "    <tr>\n",
       "      <th>25708</th>\n",
       "      <td>25708</td>\n",
       "      <td>0.042570</td>\n",
       "    </tr>\n",
       "    <tr>\n",
       "      <th>25709</th>\n",
       "      <td>25709</td>\n",
       "      <td>0.030081</td>\n",
       "    </tr>\n",
       "  </tbody>\n",
       "</table>\n",
       "<p>25710 rows × 2 columns</p>\n",
       "</div>"
      ],
      "text/plain": [
       "          id   is_risk\n",
       "0          0  0.198352\n",
       "1          1  0.063934\n",
       "2          2  0.018650\n",
       "3          3  0.414391\n",
       "4          4  0.254039\n",
       "...      ...       ...\n",
       "25705  25705  0.020595\n",
       "25706  25706  0.016024\n",
       "25707  25707  0.015578\n",
       "25708  25708  0.042570\n",
       "25709  25709  0.030081\n",
       "\n",
       "[25710 rows x 2 columns]"
      ]
     },
     "execution_count": 76,
     "metadata": {},
     "output_type": "execute_result"
    }
   ],
   "source": [
    "sub"
   ]
  },
  {
   "cell_type": "code",
   "execution_count": null,
   "id": "44ee227f",
   "metadata": {},
   "outputs": [],
   "source": []
  }
 ],
 "metadata": {
  "kernelspec": {
   "display_name": "Python 3",
   "language": "python",
   "name": "python3"
  },
  "language_info": {
   "codemirror_mode": {
    "name": "ipython",
    "version": 3
   },
   "file_extension": ".py",
   "mimetype": "text/x-python",
   "name": "python",
   "nbconvert_exporter": "python",
   "pygments_lexer": "ipython3",
   "version": "3.8.8"
  }
 },
 "nbformat": 4,
 "nbformat_minor": 5
}

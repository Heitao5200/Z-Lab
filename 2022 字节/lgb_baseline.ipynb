{
 "cells": [
  {
   "cell_type": "code",
   "execution_count": null,
   "metadata": {},
   "outputs": [],
   "source": [
    "!unzip ../input/A榜/toUserA.zip -d ../output/A榜/"
   ]
  },
  {
   "cell_type": "code",
   "execution_count": null,
   "metadata": {},
   "outputs": [],
   "source": [
    "!pip install sklearn\n",
    "!pip install tdqm\n",
    "!pip install pandas==1.3.0\n",
    "!pip install lightgbm"
   ]
  },
  {
   "cell_type": "code",
   "execution_count": null,
   "metadata": {},
   "outputs": [],
   "source": [
    "import gc\n",
    "import pickle\n",
    "import numpy as np\n",
    "import pandas as pd\n",
    "from sklearn.preprocessing import LabelEncoder\n",
    "import tqdm \n",
    "from sklearn.metrics import log_loss\n",
    "from sklearn.model_selection import StratifiedKFold\n",
    "from sklearn.ensemble import RandomForestClassifier\n",
    "import lightgbm as lgb"
   ]
  },
  {
   "cell_type": "code",
   "execution_count": null,
   "metadata": {},
   "outputs": [],
   "source": [
    "col = 'userid'\n",
    "print(col)\n",
    "df_train = pd.read_csv('../output/toUserA/train.csv', usecols=[col])\n",
    "df_test = pd.read_csv('../output/toUserA/testa_nolabel.csv', usecols=[col])\n",
    "print('LE ...')\n",
    "le = LabelEncoder()\n",
    "le.fit(pd.concat([df_train[col], df_test[col]]))\n",
    "df_train[col] = le.transform(df_train[col])\n",
    "df_test[col] = le.transform(df_test[col])\n",
    "df_train[col] = df_train[col].astype('uint16')\n",
    "df_test[col] = df_test[col].astype('uint16')\n",
    "df_train.to_pickle('../output/train_'+col+'.pkl')\n",
    "del df_train\n",
    "df_test.to_pickle('../output/test_'+col+'.pkl')\n",
    "del df_test, le\n",
    "gc.collect()"
   ]
  },
  {
   "cell_type": "code",
   "execution_count": null,
   "metadata": {},
   "outputs": [],
   "source": [
    "col = 'videoid'\n",
    "print(col)\n",
    "df_train = pd.read_csv('../output/toUserA/train.csv', usecols=[col], chunksize=10000000)\n",
    "df_test = pd.read_csv('../output/toUserA/testa_nolabel.csv', usecols=[col])\n",
    "i = 0\n",
    "new_train = pd.DataFrame()\n",
    "for chunk in df_train:\n",
    "    print(i, new_train.shape)\n",
    "    i += 1\n",
    "    chunk[col] = chunk[col].map(lambda x: sum([(ord(x[i])-48) * 36**i for i in range(len(x))]))\n",
    "    new_train = pd.concat([new_train, chunk])\n",
    "df_train = new_train\n",
    "df_test[col] = df_test[col].map(lambda x: sum([(ord(x[i])-48) * 36**i for i in range(len(x))]))\n",
    "print('LE ...')\n",
    "le = LabelEncoder()\n",
    "\n",
    "# le.fit(pd.concat([df_train[col], df_test[col]]))\n",
    "df_train[col] = le.fit_transform(df_train[col])\n",
    "df_test[col] = le.transform(df_test[col])\n",
    "df_train[col] = df_train[col].astype('uint32')\n",
    "df_test[col] = df_test[col].astype('uint32')\n",
    "df_train.to_pickle('../output/train_'+col+'.pkl')\n",
    "del df_train\n",
    "df_test.to_pickle('../output/test_'+col+'.pkl')\n",
    "del df_test, le\n",
    "gc.collect()"
   ]
  },
  {
   "cell_type": "code",
   "execution_count": null,
   "metadata": {},
   "outputs": [],
   "source": [
    "col = 'tag'\n",
    "print(col)\n",
    "df_train = pd.read_csv('../output/toUserA/train.csv', usecols=[col])\n",
    "df_test = pd.read_csv('../output/toUserA/testa_nolabel.csv', usecols=[col])\n",
    "print('LE ...')\n",
    "le = LabelEncoder()\n",
    "le.fit(pd.concat([df_train[col], df_test[col]]))\n",
    "df_train[col] = le.transform(df_train[col])\n",
    "df_test[col] = le.transform(df_test[col])\n",
    "df_train[col] = df_train[col].astype('uint8')\n",
    "df_test[col] = df_test[col].astype('uint8')\n",
    "df_train.to_pickle('../output/train_'+col+'.pkl')\n",
    "del df_train\n",
    "df_test.to_pickle('../output/test_'+col+'.pkl')\n",
    "del df_test, le\n",
    "gc.collect()"
   ]
  },
  {
   "cell_type": "code",
   "execution_count": null,
   "metadata": {},
   "outputs": [],
   "source": [
    "gc.collect()"
   ]
  },
  {
   "cell_type": "code",
   "execution_count": null,
   "metadata": {},
   "outputs": [],
   "source": [
    "df_train = pd.DataFrame()\n",
    "for col in ['userid', 'videoid', 'tag']:\n",
    "    print(col)\n",
    "    df_train = pd.concat([df_train, pd.read_pickle('../output/train_'+col+'.pkl')], axis=1)\n",
    "others = pd.read_csv('../output/toUserA/train.csv', \n",
    "                     usecols=['is_finish'],\n",
    "                     dtype={'is_finish': bool})\n",
    "df_train = pd.concat([df_train, others], axis=1)\n",
    "del others\n",
    "\n",
    "df_test = pd.DataFrame()\n",
    "for col in ['userid', 'videoid', 'tag']:\n",
    "    print(col)\n",
    "    df_test = pd.concat([df_test, pd.read_pickle('../output/test_'+col+'.pkl')], axis=1)\n",
    "\n",
    "df_train.to_pickle('../output/df_train.pkl')\n",
    "df_test.to_pickle('../output/df_test.pkl')"
   ]
  },
  {
   "cell_type": "code",
   "execution_count": null,
   "metadata": {},
   "outputs": [],
   "source": [
    "kf = StratifiedKFold(n_splits=5, shuffle=True, random_state=2222)\n",
    "for fold, (train_idx, val_idx) in enumerate(kf.split(df_train.index, df_train['is_finish'])):\n",
    "    break\n",
    "df_train = df_train.loc[val_idx].reset_index(drop=True)"
   ]
  },
  {
   "cell_type": "code",
   "execution_count": null,
   "metadata": {},
   "outputs": [],
   "source": [
    "df_train.to_pickle('../output/df_train_subset.pkl')"
   ]
  },
  {
   "cell_type": "code",
   "execution_count": null,
   "metadata": {},
   "outputs": [],
   "source": [
    "# df_train = pd.read_pickle('../output/df_train_subset.pkl')\n",
    "# df_test = pd.read_pickle('../output/df_test.pkl')"
   ]
  },
  {
   "cell_type": "code",
   "execution_count": null,
   "metadata": {},
   "outputs": [],
   "source": [
    "df_train.shape, df_test.shape"
   ]
  },
  {
   "cell_type": "code",
   "execution_count": null,
   "metadata": {},
   "outputs": [],
   "source": [
    "LABEL = 'is_finish'\n",
    "feats = [f for f in df_test.columns]\n",
    "print(feats)\n",
    "params = {\n",
    "    'learning_rate': 0.5,\n",
    "    'boosting_type': 'gbdt',\n",
    "    'objective': 'binary',\n",
    "    'metric': 'binary_logloss',\n",
    "    'verbose': -1,\n",
    "    'seed': 2222,\n",
    "    'n_jobs': 4,\n",
    "}\n",
    "\n",
    "fold_num = 5\n",
    "seed = 2222\n",
    "oof = np.zeros(len(df_train))\n",
    "importance = 0\n",
    "pred_y = pd.DataFrame()\n",
    "kf = StratifiedKFold(n_splits=fold_num, shuffle=True, random_state=seed)\n",
    "for fold, (train_idx, val_idx) in enumerate(kf.split(df_train.index, df_train[LABEL])):\n",
    "    print('-----------', fold)\n",
    "    train = lgb.Dataset(df_train.loc[train_idx, feats],\n",
    "                        df_train.loc[train_idx, LABEL])\n",
    "    val = lgb.Dataset(df_train.loc[val_idx, feats],\n",
    "                      df_train.loc[val_idx, LABEL])\n",
    "    print('Train')\n",
    "    model = lgb.train(params, train, valid_sets=[val], num_boost_round=10000, \n",
    "                      callbacks=[lgb.early_stopping(50), lgb.log_evaluation(50)])\n",
    "    oof[val_idx] += model.predict(df_train.loc[val_idx, feats])\n",
    "    pred_y['fold_%d_seed_%d' % (fold, seed)] = model.predict(df_test[feats])\n",
    "    importance += model.feature_importance(importance_type='gain') / fold_num\n",
    "    break\n",
    "\n",
    "feats_importance = pd.DataFrame()\n",
    "feats_importance['name'] = feats\n",
    "feats_importance['importance'] = importance\n",
    "print(feats_importance.sort_values('importance', ascending=False)[:30])\n",
    "\n",
    "df_train['oof'] = oof\n",
    "# score = log_loss(df_train[LABEL], df_train['oof'])\n",
    "score = log_loss(df_train.loc[val_idx, LABEL], df_train.loc[val_idx, 'oof'])\n",
    "\n",
    "print(score)\n",
    "# df_test[LABEL] = pred_y.mean(axis=1).values"
   ]
  },
  {
   "cell_type": "code",
   "execution_count": null,
   "metadata": {},
   "outputs": [],
   "source": [
    "submit = pd.read_csv('../output/toUserA/submita.csv')\n",
    "submit['is_finish'] = pred_y.mean(axis=1)\n",
    "submit.to_csv('../output/ans/lgb_baseline.csv', index=False)"
   ]
  },
  {
   "cell_type": "code",
   "execution_count": null,
   "metadata": {},
   "outputs": [],
   "source": [
    "!castlecli --third codeon --token xxxxxxx --source ../output/ans/lgb_baseline.csv"
   ]
  }
 ],
 "metadata": {
  "kernelspec": {
   "display_name": "Python 3",
   "language": "python",
   "name": "python3"
  },
  "language_info": {
   "codemirror_mode": {
    "name": "ipython",
    "version": 3
   },
   "file_extension": ".py",
   "mimetype": "text/x-python",
   "name": "python",
   "nbconvert_exporter": "python",
   "pygments_lexer": "ipython3",
   "version": "3.7.1"
  }
 },
 "nbformat": 4,
 "nbformat_minor": 2
}

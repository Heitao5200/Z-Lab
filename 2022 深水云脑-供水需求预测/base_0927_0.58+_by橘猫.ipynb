{
 "cells": [
  {
   "cell_type": "code",
   "execution_count": 1,
   "id": "9f3e6467",
   "metadata": {
    "ExecuteTime": {
     "end_time": "2022-09-27T07:26:23.772022Z",
     "start_time": "2022-09-27T07:26:21.449817Z"
    }
   },
   "outputs": [],
   "source": [
    "import pandas as pd\n",
    "import lightgbm as lgb\n",
    "import numpy as np\n",
    "from sklearn.metrics import mean_squared_error\n",
    "from sklearn.model_selection import KFold\n",
    "from lightgbm import LGBMClassifier\n",
    "import matplotlib.pyplot as plt\n",
    "import seaborn as sns\n",
    "from tqdm.notebook import tqdm\n",
    "import gc\n",
    "\n",
    "\n",
    "import warnings\n",
    "warnings.simplefilter('ignore')"
   ]
  },
  {
   "cell_type": "code",
   "execution_count": 2,
   "id": "477302ed",
   "metadata": {
    "ExecuteTime": {
     "end_time": "2022-09-27T07:26:23.803941Z",
     "start_time": "2022-09-27T07:26:23.773020Z"
    }
   },
   "outputs": [],
   "source": [
    "train = pd.read_csv('training_dataset/hourly_dataset.csv')\n",
    "train['time'] = pd.to_datetime(train['time'])"
   ]
  },
  {
   "cell_type": "code",
   "execution_count": 3,
   "id": "e4498adb",
   "metadata": {
    "ExecuteTime": {
     "end_time": "2022-09-27T07:26:23.819897Z",
     "start_time": "2022-09-27T07:26:23.804938Z"
    }
   },
   "outputs": [],
   "source": [
    "train1 = train[(train['time']>='2022-01-01 01:00:00')&(train['time']<'2022-05-01 01:00:00')].reset_index(drop=True)\n",
    "# test1 = train[train['train or test']=='test1'].reset_index(drop=True)\n",
    "\n",
    "train2 = train[(train['time']>='2022-05-08 01:00:00')&(train['time']<'2022-06-01 01:00:00')].reset_index(drop=True)\n",
    "# test2 = train[train['train or test']=='test2'].reset_index(drop=True)\n",
    "\n",
    "train3 = train[(train['time']>='2022-06-08 01:00:00')&(train['time']<'2022-07-21 01:00:00')].reset_index(drop=True)\n",
    "# test3 = train[train['train or test']=='test3'].reset_index(drop=True)\n",
    "\n",
    "train4 = train[(train['time']>='2022-07-28 01:00:00')&(train['time']<'2022-08-21 01:00:00')].reset_index(drop=True)\n",
    "# test4 = train[train['train or test']=='test4'].reset_index(drop=True)"
   ]
  },
  {
   "cell_type": "code",
   "execution_count": 4,
   "id": "14f173b8",
   "metadata": {
    "ExecuteTime": {
     "end_time": "2022-09-27T07:26:23.835854Z",
     "start_time": "2022-09-27T07:26:23.820895Z"
    }
   },
   "outputs": [
    {
     "name": "stdout",
     "output_type": "stream",
     "text": [
      "(2880, 22) (576, 22) (1032, 22) (576, 22)\n"
     ]
    }
   ],
   "source": [
    "print(train1.shape, train2.shape, train3.shape, train4.shape)"
   ]
  },
  {
   "cell_type": "code",
   "execution_count": 5,
   "id": "9cfa5929",
   "metadata": {
    "ExecuteTime": {
     "end_time": "2022-09-27T07:26:27.897364Z",
     "start_time": "2022-09-27T07:26:23.836852Z"
    }
   },
   "outputs": [
    {
     "data": {
      "application/vnd.jupyter.widget-view+json": {
       "model_id": "7ca9eaa07f3c4eb1b8e3d1601aa2ce69",
       "version_major": 2,
       "version_minor": 0
      },
      "text/plain": [
       "  0%|          | 0/4 [00:00<?, ?it/s]"
      ]
     },
     "metadata": {},
     "output_type": "display_data"
    },
    {
     "data": {
      "application/vnd.jupyter.widget-view+json": {
       "model_id": "ce4886461a204681afe34bd4cfc9bc81",
       "version_major": 2,
       "version_minor": 0
      },
      "text/plain": [
       "  0%|          | 0/4 [00:00<?, ?it/s]"
      ]
     },
     "metadata": {},
     "output_type": "display_data"
    }
   ],
   "source": [
    "## 将小于零的值替换为空值\n",
    "for df in tqdm([train1,train2,train3,train4]):\n",
    "    for i in range(1,21):\n",
    "        df.loc[df[f'flow_{i}']<0,f'flow_{i}'] = np.nan\n",
    "        \n",
    "        \n",
    "## 将异常值替换为空值\n",
    "for df in tqdm([train1,train2,train3,train4]):\n",
    "    for i in range(1,21):\n",
    "        df[f'flow_{i}_shift'] = df[f'flow_{i}'].shift(-1)\n",
    "        for index,row in df.iterrows():\n",
    "            if index != df.shape[0]-1:\n",
    "                if pd.isna(row[f'flow_{i}_shift']) and pd.notna(row[f'flow_{i}']):\n",
    "                    df.loc[index,f'flow_{i}'] = np.nan\n",
    "        del df[f'flow_{i}_shift'];gc.collect"
   ]
  },
  {
   "cell_type": "code",
   "execution_count": 6,
   "id": "161046dc",
   "metadata": {
    "ExecuteTime": {
     "end_time": "2022-09-27T07:26:45.381765Z",
     "start_time": "2022-09-27T07:26:27.898358Z"
    }
   },
   "outputs": [
    {
     "data": {
      "application/vnd.jupyter.widget-view+json": {
       "model_id": "f7cd5b93c8a248949ac696632d0e3d5b",
       "version_major": 2,
       "version_minor": 0
      },
      "text/plain": [
       "  0%|          | 0/2880 [00:00<?, ?it/s]"
      ]
     },
     "metadata": {},
     "output_type": "display_data"
    },
    {
     "data": {
      "application/vnd.jupyter.widget-view+json": {
       "model_id": "3dbf8b51fecb47c8ada1bb4c6f30bfc0",
       "version_major": 2,
       "version_minor": 0
      },
      "text/plain": [
       "  0%|          | 0/576 [00:00<?, ?it/s]"
      ]
     },
     "metadata": {},
     "output_type": "display_data"
    },
    {
     "data": {
      "application/vnd.jupyter.widget-view+json": {
       "model_id": "e262d610e5674802b8eb1c4933b360d1",
       "version_major": 2,
       "version_minor": 0
      },
      "text/plain": [
       "  0%|          | 0/1032 [00:00<?, ?it/s]"
      ]
     },
     "metadata": {},
     "output_type": "display_data"
    },
    {
     "data": {
      "application/vnd.jupyter.widget-view+json": {
       "model_id": "61c6a23f0f34488eb78696271bb549a6",
       "version_major": 2,
       "version_minor": 0
      },
      "text/plain": [
       "  0%|          | 0/576 [00:00<?, ?it/s]"
      ]
     },
     "metadata": {},
     "output_type": "display_data"
    }
   ],
   "source": [
    "## 缺失值填充 --> 参考了 \"简单策略0.49 Baseline\"\n",
    "## 用前一天的值进行填充\n",
    "for i in range(1,5):\n",
    "    locals()[f'train{i}'] = locals()[f'train{i}'].set_index('time')\n",
    "    \n",
    "for df in [train1,train2,train3,train4]:\n",
    "    for date in tqdm(df.index):\n",
    "        for col in range(20):\n",
    "            period1 = pd.Timedelta(hours = 24)\n",
    "            if pd.isna(df.loc[date][col]): #判断是否为空值\n",
    "                if date - period1 in df.index: #如果该索引存在 （考虑到一下flow一开始就存在空值）\n",
    "                    period2 = date - period1\n",
    "                    while pd.isna(df.loc[period2][col]):\n",
    "                        period2 = period2 - period1\n",
    "                    df.loc[date, f'flow_{col+1}'] = df.loc[period2, f'flow_{col+1}']\n",
    "\n",
    "                else: #对于flow一开始就存在缺失值的，用后一天的值进行填充\n",
    "                    period2 = date + pd.Timedelta(hours = 24)\n",
    "                    while pd.isna(df.loc[period2][col]):\n",
    "                        period2 = period2 + period1\n",
    "                    df.loc[date, f'flow_{col+1}'] = df.loc[period2, f'flow_{col+1}']\n",
    "\n",
    "                \n",
    "for i in range(1,5):\n",
    "    locals()[f'train{i}'] = locals()[f'train{i}'].reset_index()"
   ]
  },
  {
   "cell_type": "code",
   "execution_count": 7,
   "id": "de7f3eee",
   "metadata": {
    "ExecuteTime": {
     "end_time": "2022-09-27T07:26:45.426648Z",
     "start_time": "2022-09-27T07:26:45.382771Z"
    }
   },
   "outputs": [],
   "source": [
    "sub = pd.read_csv('sample_submission.csv')\n",
    "\n",
    "sub1 = (train1.iloc[-24*7*1:,1:-1].values + train1.iloc[-24*7*2:-24*7*1,1:-1].values + \\\n",
    "        train1.iloc[-24*7*3:-24*7*2,1:-1].values + train1.iloc[-24*7*4:-24*7*3,1:-1].values)/4\n",
    "sub.loc[(sub['time']>='2022-05-01 01:00:00')&(sub['time']<'2022-05-08 01:00:00'),1:] = sub1\n",
    "\n",
    "\n",
    "sub1 = (train2.iloc[-24*7*1:,1:-1].values + train2.iloc[-24*7*2:-24*7*1,1:-1].values + \\\n",
    "        train2.iloc[-24*7*3:-24*7*2,1:-1].values)/3\n",
    "sub.loc[(sub['time']>='2022-06-01 01:00:00')&(sub['time']<'2022-06-08 01:00:00'),1:] = sub1\n",
    "\n",
    "\n",
    "sub1 = (train3.iloc[-24*7*1:,1:-1].values + train3.iloc[-24*7*2:-24*7*1,1:-1].values + \\\n",
    "        train3.iloc[-24*7*3:-24*7*2,1:-1].values + train3.iloc[-24*7*4:-24*7*3,1:-1].values)/4\n",
    "sub.loc[(sub['time']>='2022-07-21 01:00:00')&(sub['time']<'2022-07-28 01:00:00'),1:] = sub1\n",
    "\n",
    "\n",
    "sub1 = (train4.iloc[-24*7*1:,1:-1].values + train4.iloc[-24*7*2:-24*7*1,1:-1].values + \\\n",
    "        train4.iloc[-24*7*3:-24*7*2,1:-1].values)/3\n",
    "sub.loc[(sub['time']>='2022-08-21 01:00:00')&(sub['time']<'2022-08-28 01:00:00'),1:] = sub1"
   ]
  },
  {
   "cell_type": "code",
   "execution_count": 8,
   "id": "123b0379",
   "metadata": {
    "ExecuteTime": {
     "end_time": "2022-09-27T07:26:45.456565Z",
     "start_time": "2022-09-27T07:26:45.428640Z"
    }
   },
   "outputs": [],
   "source": [
    "sub.to_csv('use_4week_mean_0927.csv',index = False)  # 线上 0.58576808"
   ]
  },
  {
   "cell_type": "code",
   "execution_count": 9,
   "id": "39bf384b",
   "metadata": {
    "ExecuteTime": {
     "end_time": "2022-09-27T07:28:23.035953Z",
     "start_time": "2022-09-27T07:28:22.990076Z"
    }
   },
   "outputs": [
    {
     "data": {
      "text/html": [
       "<div>\n",
       "<style scoped>\n",
       "    .dataframe tbody tr th:only-of-type {\n",
       "        vertical-align: middle;\n",
       "    }\n",
       "\n",
       "    .dataframe tbody tr th {\n",
       "        vertical-align: top;\n",
       "    }\n",
       "\n",
       "    .dataframe thead th {\n",
       "        text-align: right;\n",
       "    }\n",
       "</style>\n",
       "<table border=\"1\" class=\"dataframe\">\n",
       "  <thead>\n",
       "    <tr style=\"text-align: right;\">\n",
       "      <th></th>\n",
       "      <th>flow_1</th>\n",
       "      <th>flow_2</th>\n",
       "      <th>flow_3</th>\n",
       "      <th>flow_4</th>\n",
       "      <th>flow_5</th>\n",
       "      <th>flow_6</th>\n",
       "      <th>flow_7</th>\n",
       "      <th>flow_8</th>\n",
       "      <th>flow_9</th>\n",
       "      <th>flow_10</th>\n",
       "      <th>flow_11</th>\n",
       "      <th>flow_12</th>\n",
       "      <th>flow_13</th>\n",
       "      <th>flow_14</th>\n",
       "      <th>flow_15</th>\n",
       "      <th>flow_16</th>\n",
       "      <th>flow_17</th>\n",
       "      <th>flow_18</th>\n",
       "      <th>flow_19</th>\n",
       "      <th>flow_20</th>\n",
       "    </tr>\n",
       "  </thead>\n",
       "  <tbody>\n",
       "    <tr>\n",
       "      <th>count</th>\n",
       "      <td>672.000000</td>\n",
       "      <td>672.000000</td>\n",
       "      <td>672.000000</td>\n",
       "      <td>672.000000</td>\n",
       "      <td>672.000000</td>\n",
       "      <td>672.000000</td>\n",
       "      <td>672.000000</td>\n",
       "      <td>672.000000</td>\n",
       "      <td>672.000000</td>\n",
       "      <td>672.000000</td>\n",
       "      <td>672.000000</td>\n",
       "      <td>672.000000</td>\n",
       "      <td>672.000000</td>\n",
       "      <td>672.000000</td>\n",
       "      <td>672.000000</td>\n",
       "      <td>672.000000</td>\n",
       "      <td>672.000000</td>\n",
       "      <td>672.000000</td>\n",
       "      <td>672.000000</td>\n",
       "      <td>672.000000</td>\n",
       "    </tr>\n",
       "    <tr>\n",
       "      <th>mean</th>\n",
       "      <td>45.012946</td>\n",
       "      <td>20.277071</td>\n",
       "      <td>79.188889</td>\n",
       "      <td>47.040042</td>\n",
       "      <td>5.616270</td>\n",
       "      <td>86.000707</td>\n",
       "      <td>15.101885</td>\n",
       "      <td>2.314162</td>\n",
       "      <td>6.914993</td>\n",
       "      <td>2.797938</td>\n",
       "      <td>5.628361</td>\n",
       "      <td>3.491503</td>\n",
       "      <td>3.522991</td>\n",
       "      <td>3.165613</td>\n",
       "      <td>2.104204</td>\n",
       "      <td>5.393006</td>\n",
       "      <td>9.198090</td>\n",
       "      <td>7.035927</td>\n",
       "      <td>3.039922</td>\n",
       "      <td>2.765191</td>\n",
       "    </tr>\n",
       "    <tr>\n",
       "      <th>std</th>\n",
       "      <td>19.635147</td>\n",
       "      <td>11.862538</td>\n",
       "      <td>27.262591</td>\n",
       "      <td>21.932761</td>\n",
       "      <td>3.141802</td>\n",
       "      <td>43.027140</td>\n",
       "      <td>9.888814</td>\n",
       "      <td>1.499258</td>\n",
       "      <td>4.430748</td>\n",
       "      <td>2.025283</td>\n",
       "      <td>3.574436</td>\n",
       "      <td>2.383215</td>\n",
       "      <td>1.750024</td>\n",
       "      <td>2.301408</td>\n",
       "      <td>1.332759</td>\n",
       "      <td>3.392007</td>\n",
       "      <td>5.743931</td>\n",
       "      <td>4.233395</td>\n",
       "      <td>2.086353</td>\n",
       "      <td>1.419943</td>\n",
       "    </tr>\n",
       "    <tr>\n",
       "      <th>min</th>\n",
       "      <td>11.300000</td>\n",
       "      <td>2.525000</td>\n",
       "      <td>26.550000</td>\n",
       "      <td>11.500000</td>\n",
       "      <td>0.833333</td>\n",
       "      <td>12.933333</td>\n",
       "      <td>1.600000</td>\n",
       "      <td>0.166667</td>\n",
       "      <td>0.625000</td>\n",
       "      <td>0.130667</td>\n",
       "      <td>0.466667</td>\n",
       "      <td>0.224250</td>\n",
       "      <td>0.250000</td>\n",
       "      <td>0.166667</td>\n",
       "      <td>0.100000</td>\n",
       "      <td>0.575000</td>\n",
       "      <td>0.750000</td>\n",
       "      <td>0.661750</td>\n",
       "      <td>0.200667</td>\n",
       "      <td>0.166667</td>\n",
       "    </tr>\n",
       "    <tr>\n",
       "      <th>25%</th>\n",
       "      <td>30.966667</td>\n",
       "      <td>11.893750</td>\n",
       "      <td>62.608333</td>\n",
       "      <td>27.566667</td>\n",
       "      <td>3.131250</td>\n",
       "      <td>57.500000</td>\n",
       "      <td>7.272917</td>\n",
       "      <td>1.150000</td>\n",
       "      <td>3.572917</td>\n",
       "      <td>1.257833</td>\n",
       "      <td>2.858333</td>\n",
       "      <td>1.799667</td>\n",
       "      <td>2.518750</td>\n",
       "      <td>1.466667</td>\n",
       "      <td>1.125000</td>\n",
       "      <td>2.762500</td>\n",
       "      <td>4.631250</td>\n",
       "      <td>3.835813</td>\n",
       "      <td>1.545792</td>\n",
       "      <td>1.833333</td>\n",
       "    </tr>\n",
       "    <tr>\n",
       "      <th>50%</th>\n",
       "      <td>44.325000</td>\n",
       "      <td>19.566667</td>\n",
       "      <td>80.062500</td>\n",
       "      <td>48.116667</td>\n",
       "      <td>5.333333</td>\n",
       "      <td>87.512500</td>\n",
       "      <td>13.625000</td>\n",
       "      <td>2.033333</td>\n",
       "      <td>6.287500</td>\n",
       "      <td>2.600000</td>\n",
       "      <td>5.333333</td>\n",
       "      <td>3.082083</td>\n",
       "      <td>3.366667</td>\n",
       "      <td>2.750000</td>\n",
       "      <td>1.950000</td>\n",
       "      <td>5.029167</td>\n",
       "      <td>8.612500</td>\n",
       "      <td>6.664667</td>\n",
       "      <td>2.572250</td>\n",
       "      <td>2.800000</td>\n",
       "    </tr>\n",
       "    <tr>\n",
       "      <th>75%</th>\n",
       "      <td>55.908333</td>\n",
       "      <td>26.612500</td>\n",
       "      <td>94.868750</td>\n",
       "      <td>62.318750</td>\n",
       "      <td>7.733333</td>\n",
       "      <td>113.181250</td>\n",
       "      <td>21.200000</td>\n",
       "      <td>3.281250</td>\n",
       "      <td>9.500000</td>\n",
       "      <td>3.856750</td>\n",
       "      <td>7.366667</td>\n",
       "      <td>4.733000</td>\n",
       "      <td>4.527083</td>\n",
       "      <td>4.154167</td>\n",
       "      <td>2.927083</td>\n",
       "      <td>7.141667</td>\n",
       "      <td>12.866667</td>\n",
       "      <td>9.081333</td>\n",
       "      <td>4.242833</td>\n",
       "      <td>3.600000</td>\n",
       "    </tr>\n",
       "    <tr>\n",
       "      <th>max</th>\n",
       "      <td>112.050000</td>\n",
       "      <td>51.325000</td>\n",
       "      <td>186.550000</td>\n",
       "      <td>100.125000</td>\n",
       "      <td>13.166667</td>\n",
       "      <td>201.866667</td>\n",
       "      <td>42.075000</td>\n",
       "      <td>6.575000</td>\n",
       "      <td>20.000000</td>\n",
       "      <td>8.801500</td>\n",
       "      <td>15.950000</td>\n",
       "      <td>10.480000</td>\n",
       "      <td>9.066667</td>\n",
       "      <td>9.633333</td>\n",
       "      <td>6.000000</td>\n",
       "      <td>14.825000</td>\n",
       "      <td>24.600000</td>\n",
       "      <td>18.196000</td>\n",
       "      <td>9.979333</td>\n",
       "      <td>6.633333</td>\n",
       "    </tr>\n",
       "  </tbody>\n",
       "</table>\n",
       "</div>"
      ],
      "text/plain": [
       "           flow_1      flow_2      flow_3      flow_4      flow_5      flow_6  \\\n",
       "count  672.000000  672.000000  672.000000  672.000000  672.000000  672.000000   \n",
       "mean    45.012946   20.277071   79.188889   47.040042    5.616270   86.000707   \n",
       "std     19.635147   11.862538   27.262591   21.932761    3.141802   43.027140   \n",
       "min     11.300000    2.525000   26.550000   11.500000    0.833333   12.933333   \n",
       "25%     30.966667   11.893750   62.608333   27.566667    3.131250   57.500000   \n",
       "50%     44.325000   19.566667   80.062500   48.116667    5.333333   87.512500   \n",
       "75%     55.908333   26.612500   94.868750   62.318750    7.733333  113.181250   \n",
       "max    112.050000   51.325000  186.550000  100.125000   13.166667  201.866667   \n",
       "\n",
       "           flow_7      flow_8      flow_9     flow_10     flow_11     flow_12  \\\n",
       "count  672.000000  672.000000  672.000000  672.000000  672.000000  672.000000   \n",
       "mean    15.101885    2.314162    6.914993    2.797938    5.628361    3.491503   \n",
       "std      9.888814    1.499258    4.430748    2.025283    3.574436    2.383215   \n",
       "min      1.600000    0.166667    0.625000    0.130667    0.466667    0.224250   \n",
       "25%      7.272917    1.150000    3.572917    1.257833    2.858333    1.799667   \n",
       "50%     13.625000    2.033333    6.287500    2.600000    5.333333    3.082083   \n",
       "75%     21.200000    3.281250    9.500000    3.856750    7.366667    4.733000   \n",
       "max     42.075000    6.575000   20.000000    8.801500   15.950000   10.480000   \n",
       "\n",
       "          flow_13     flow_14     flow_15     flow_16     flow_17     flow_18  \\\n",
       "count  672.000000  672.000000  672.000000  672.000000  672.000000  672.000000   \n",
       "mean     3.522991    3.165613    2.104204    5.393006    9.198090    7.035927   \n",
       "std      1.750024    2.301408    1.332759    3.392007    5.743931    4.233395   \n",
       "min      0.250000    0.166667    0.100000    0.575000    0.750000    0.661750   \n",
       "25%      2.518750    1.466667    1.125000    2.762500    4.631250    3.835813   \n",
       "50%      3.366667    2.750000    1.950000    5.029167    8.612500    6.664667   \n",
       "75%      4.527083    4.154167    2.927083    7.141667   12.866667    9.081333   \n",
       "max      9.066667    9.633333    6.000000   14.825000   24.600000   18.196000   \n",
       "\n",
       "          flow_19     flow_20  \n",
       "count  672.000000  672.000000  \n",
       "mean     3.039922    2.765191  \n",
       "std      2.086353    1.419943  \n",
       "min      0.200667    0.166667  \n",
       "25%      1.545792    1.833333  \n",
       "50%      2.572250    2.800000  \n",
       "75%      4.242833    3.600000  \n",
       "max      9.979333    6.633333  "
      ]
     },
     "execution_count": 9,
     "metadata": {},
     "output_type": "execute_result"
    }
   ],
   "source": [
    "sub.describe()"
   ]
  },
  {
   "cell_type": "code",
   "execution_count": null,
   "id": "ad5fc6bb",
   "metadata": {},
   "outputs": [],
   "source": []
  }
 ],
 "metadata": {
  "kernelspec": {
   "display_name": "Python 3",
   "language": "python",
   "name": "python3"
  },
  "language_info": {
   "codemirror_mode": {
    "name": "ipython",
    "version": 3
   },
   "file_extension": ".py",
   "mimetype": "text/x-python",
   "name": "python",
   "nbconvert_exporter": "python",
   "pygments_lexer": "ipython3",
   "version": "3.8.8"
  }
 },
 "nbformat": 4,
 "nbformat_minor": 5
}

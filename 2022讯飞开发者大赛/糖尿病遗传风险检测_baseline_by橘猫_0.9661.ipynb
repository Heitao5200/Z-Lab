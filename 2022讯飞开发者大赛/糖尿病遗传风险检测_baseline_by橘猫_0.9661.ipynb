{
 "cells": [
  {
   "cell_type": "code",
   "execution_count": 1,
   "metadata": {
    "ExecuteTime": {
     "end_time": "2022-06-26T01:32:21.965506Z",
     "start_time": "2022-06-26T01:32:17.518635Z"
    }
   },
   "outputs": [],
   "source": [
    "import pandas as pd\n",
    "import numpy as np\n",
    "import lightgbm as lgb\n",
    "from tqdm.notebook import tqdm\n",
    "from sklearn.model_selection import StratifiedKFold\n",
    "from sklearn.preprocessing import LabelEncoder\n",
    "from sklearn.metrics import roc_auc_score,f1_score\n",
    "import matplotlib.pyplot as plt\n",
    "import seaborn as sns\n",
    "import gc\n",
    "\n",
    "import warnings\n",
    "warnings.simplefilter('ignore')"
   ]
  },
  {
   "cell_type": "code",
   "execution_count": 2,
   "metadata": {
    "ExecuteTime": {
     "end_time": "2022-06-26T01:32:22.012392Z",
     "start_time": "2022-06-26T01:32:21.966505Z"
    }
   },
   "outputs": [],
   "source": [
    "train = pd.read_csv('比赛训练集.csv',encoding='gbk')\n",
    "test = pd.read_csv('比赛测试集.csv',encoding='gbk')\n",
    "sub = pd.read_csv('提交示例.csv')\n",
    "data = pd.concat([train,test]).reset_index(drop = True)\n",
    "\n",
    "\n",
    "## -------对类别特征 One-Hot编码\n",
    "data['糖尿病家族史'] = data['糖尿病家族史'].apply(\n",
    "    lambda x:'叔叔或姑姑有一方患有糖尿病' if x=='叔叔或者姑姑有一方患有糖尿病' else x)\n",
    "df = pd.get_dummies(data['糖尿病家族史']).astype('int')\n",
    "data = pd.concat([data,df],axis = 1)\n",
    "\n",
    "## -------对值为0的4个特征值替换为np.nan\n",
    "for i in ['口服耐糖量测试','胰岛素释放实验','肱三头肌皮褶厚度','体重指数']:\n",
    "#     data[i] = data[i].apply(lambda x:np.nan if x<=0 else x)\n",
    "    data[i] = data[i].apply(lambda x:np.nan if x==0 else x)\n",
    "    "
   ]
  },
  {
   "cell_type": "code",
   "execution_count": 3,
   "metadata": {
    "ExecuteTime": {
     "end_time": "2022-06-25T18:46:07.310955Z",
     "start_time": "2022-06-25T18:46:07.296993Z"
    }
   },
   "outputs": [],
   "source": [
    "train = data[data['患有糖尿病标识'].notnull()].reset_index(drop = True)\n",
    "test = data[~data['患有糖尿病标识'].notnull()].reset_index(drop = True)\n",
    "feas = [i  for i in train.columns.tolist() if i not in ['编号','糖尿病家族史','患有糖尿病标识',]]\n",
    "\n",
    "x_train = train[feas]\n",
    "y_train = train['患有糖尿病标识']\n",
    "x_test = test[feas]"
   ]
  },
  {
   "cell_type": "code",
   "execution_count": 4,
   "metadata": {
    "ExecuteTime": {
     "end_time": "2022-06-25T18:46:07.325916Z",
     "start_time": "2022-06-25T18:46:07.311953Z"
    }
   },
   "outputs": [
    {
     "data": {
      "text/plain": [
       "(5070, 10)"
      ]
     },
     "execution_count": 4,
     "metadata": {},
     "output_type": "execute_result"
    }
   ],
   "source": [
    "x_train.shape"
   ]
  },
  {
   "cell_type": "code",
   "execution_count": 5,
   "metadata": {
    "ExecuteTime": {
     "end_time": "2022-06-25T18:46:11.977251Z",
     "start_time": "2022-06-25T18:46:07.326913Z"
    },
    "scrolled": true
   },
   "outputs": [
    {
     "name": "stdout",
     "output_type": "stream",
     "text": [
      "----------------------------------- 1 -----------------------------------\n",
      "[LightGBM] [Warning] num_threads is set with nthread=28, will be overridden by n_jobs=4. Current value: num_threads=4\n",
      "[LightGBM] [Warning] Unknown parameter: silent\n",
      "Training until validation scores don't improve for 200 rounds\n",
      "[200]\ttraining's auc: 0.996635\tvalid_1's auc: 0.99195\n",
      "[400]\ttraining's auc: 0.997142\tvalid_1's auc: 0.991708\n",
      "Early stopping, best iteration is:\n",
      "[295]\ttraining's auc: 0.996867\tvalid_1's auc: 0.992103\n",
      "[('口服耐糖量测试', 3943), ('体重指数', 3386), ('舒张压', 2437), ('出生年份', 2309), ('肱三头肌皮褶厚度', 1286), ('胰岛素释放实验', 1259), ('性别', 531), ('无记录', 420), ('父母有一方患有糖尿病', 187), ('叔叔或姑姑有一方患有糖尿病', 161)]\n",
      "[0.9921028880866425]\n",
      "[0.9323583180987203]\n",
      "----------------------------------- 2 -----------------------------------\n",
      "[LightGBM] [Warning] num_threads is set with nthread=28, will be overridden by n_jobs=4. Current value: num_threads=4\n",
      "[LightGBM] [Warning] Unknown parameter: silent\n",
      "Training until validation scores don't improve for 200 rounds\n",
      "[200]\ttraining's auc: 0.996822\tvalid_1's auc: 0.98788\n",
      "[400]\ttraining's auc: 0.997279\tvalid_1's auc: 0.991466\n",
      "[600]\ttraining's auc: 0.997815\tvalid_1's auc: 0.99083\n",
      "Early stopping, best iteration is:\n",
      "[436]\ttraining's auc: 0.997348\tvalid_1's auc: 0.991756\n",
      "[('口服耐糖量测试', 4525), ('体重指数', 3935), ('舒张压', 3185), ('出生年份', 2692), ('胰岛素释放实验', 1662), ('肱三头肌皮褶厚度', 1660), ('性别', 645), ('无记录', 573), ('父母有一方患有糖尿病', 178), ('叔叔或姑姑有一方患有糖尿病', 165)]\n",
      "[0.9921028880866425, 0.9917563821557503]\n",
      "[0.9323583180987203, 0.9360146252285192]\n",
      "----------------------------------- 3 -----------------------------------\n",
      "[LightGBM] [Warning] num_threads is set with nthread=28, will be overridden by n_jobs=4. Current value: num_threads=4\n",
      "[LightGBM] [Warning] Unknown parameter: silent\n",
      "Training until validation scores don't improve for 200 rounds\n",
      "[200]\ttraining's auc: 0.996681\tvalid_1's auc: 0.992462\n",
      "[400]\ttraining's auc: 0.997205\tvalid_1's auc: 0.993465\n",
      "[600]\ttraining's auc: 0.997758\tvalid_1's auc: 0.993603\n",
      "[800]\ttraining's auc: 0.998285\tvalid_1's auc: 0.993708\n",
      "[1000]\ttraining's auc: 0.998715\tvalid_1's auc: 0.993579\n",
      "Did not meet early stopping. Best iteration is:\n",
      "[1000]\ttraining's auc: 0.998715\tvalid_1's auc: 0.993579\n",
      "[('口服耐糖量测试', 6154), ('体重指数', 5966), ('舒张压', 4400), ('出生年份', 4033), ('肱三头肌皮褶厚度', 2514), ('胰岛素释放实验', 2155), ('性别', 919), ('无记录', 752), ('父母有一方患有糖尿病', 383), ('叔叔或姑姑有一方患有糖尿病', 232)]\n",
      "[0.9921028880866425, 0.9917563821557503, 0.9935785455486542]\n",
      "[0.9323583180987203, 0.9360146252285192, 0.9534050179211468]\n",
      "----------------------------------- 4 -----------------------------------\n",
      "[LightGBM] [Warning] num_threads is set with nthread=28, will be overridden by n_jobs=4. Current value: num_threads=4\n",
      "[LightGBM] [Warning] Unknown parameter: silent\n",
      "Training until validation scores don't improve for 200 rounds\n",
      "[200]\ttraining's auc: 0.996668\tvalid_1's auc: 0.995414\n",
      "[400]\ttraining's auc: 0.997123\tvalid_1's auc: 0.995374\n",
      "Early stopping, best iteration is:\n",
      "[215]\ttraining's auc: 0.996711\tvalid_1's auc: 0.995487\n",
      "[('口服耐糖量测试', 3165), ('体重指数', 2714), ('出生年份', 2043), ('舒张压', 1917), ('胰岛素释放实验', 1034), ('肱三头肌皮褶厚度', 994), ('性别', 463), ('无记录', 354), ('父母有一方患有糖尿病', 109), ('叔叔或姑姑有一方患有糖尿病', 106)]\n",
      "[0.9921028880866425, 0.9917563821557503, 0.9935785455486542, 0.9954871894409938]\n",
      "[0.9323583180987203, 0.9360146252285192, 0.9534050179211468, 0.9513513513513514]\n",
      "----------------------------------- 5 -----------------------------------\n",
      "[LightGBM] [Warning] num_threads is set with nthread=28, will be overridden by n_jobs=4. Current value: num_threads=4\n",
      "[LightGBM] [Warning] Unknown parameter: silent\n",
      "Training until validation scores don't improve for 200 rounds\n",
      "[200]\ttraining's auc: 0.996774\tvalid_1's auc: 0.988726\n",
      "[400]\ttraining's auc: 0.997246\tvalid_1's auc: 0.99116\n",
      "[600]\ttraining's auc: 0.997858\tvalid_1's auc: 0.992551\n",
      "Early stopping, best iteration is:\n",
      "[526]\ttraining's auc: 0.99762\tvalid_1's auc: 0.992608\n",
      "[('口服耐糖量测试', 4908), ('体重指数', 4472), ('舒张压', 3391), ('出生年份', 2918), ('肱三头肌皮褶厚度', 1816), ('胰岛素释放实验', 1513), ('性别', 847), ('无记录', 601), ('父母有一方患有糖尿病', 244), ('叔叔或姑姑有一方患有糖尿病', 174)]\n",
      "[0.9921028880866425, 0.9917563821557503, 0.9935785455486542, 0.9954871894409938, 0.9926080486542443]\n",
      "[0.9323583180987203, 0.9360146252285192, 0.9534050179211468, 0.9513513513513514, 0.9490909090909091]\n",
      "----------------------------------- 6 -----------------------------------\n",
      "[LightGBM] [Warning] num_threads is set with nthread=28, will be overridden by n_jobs=4. Current value: num_threads=4\n",
      "[LightGBM] [Warning] Unknown parameter: silent\n",
      "Training until validation scores don't improve for 200 rounds\n",
      "[200]\ttraining's auc: 0.996854\tvalid_1's auc: 0.992255\n",
      "[400]\ttraining's auc: 0.997272\tvalid_1's auc: 0.993725\n",
      "Early stopping, best iteration is:\n",
      "[338]\ttraining's auc: 0.997127\tvalid_1's auc: 0.993805\n",
      "[('口服耐糖量测试', 4255), ('体重指数', 3601), ('舒张压', 2623), ('出生年份', 2482), ('肱三头肌皮褶厚度', 1363), ('胰岛素释放实验', 1233), ('性别', 691), ('无记录', 562), ('父母有一方患有糖尿病', 190), ('叔叔或姑姑有一方患有糖尿病', 118)]\n",
      "[0.9921028880866425, 0.9917563821557503, 0.9935785455486542, 0.9954871894409938, 0.9926080486542443, 0.9938054741194808]\n",
      "[0.9323583180987203, 0.9360146252285192, 0.9534050179211468, 0.9513513513513514, 0.9490909090909091, 0.941385435168739]\n",
      "----------------------------------- 7 -----------------------------------\n",
      "[LightGBM] [Warning] num_threads is set with nthread=28, will be overridden by n_jobs=4. Current value: num_threads=4\n",
      "[LightGBM] [Warning] Unknown parameter: silent\n",
      "Training until validation scores don't improve for 200 rounds\n",
      "[200]\ttraining's auc: 0.996502\tvalid_1's auc: 0.992013\n",
      "[400]\ttraining's auc: 0.996984\tvalid_1's auc: 0.993313\n",
      "Early stopping, best iteration is:\n",
      "[359]\ttraining's auc: 0.996896\tvalid_1's auc: 0.99345\n",
      "[('口服耐糖量测试', 4144), ('体重指数', 3915), ('舒张压', 2810), ('出生年份', 2696), ('肱三头肌皮褶厚度', 1452), ('胰岛素释放实验', 1311), ('性别', 591), ('无记录', 514), ('叔叔或姑姑有一方患有糖尿病', 167), ('父母有一方患有糖尿病', 162)]\n",
      "[0.9921028880866425, 0.9917563821557503, 0.9935785455486542, 0.9954871894409938, 0.9926080486542443, 0.9938054741194808, 0.9934501167026063]\n",
      "[0.9323583180987203, 0.9360146252285192, 0.9534050179211468, 0.9513513513513514, 0.9490909090909091, 0.941385435168739, 0.948339483394834]\n",
      "s_scotrainre_list:  [0.9921028880866425, 0.9917563821557503, 0.9935785455486542, 0.9954871894409938, 0.9926080486542443, 0.9938054741194808, 0.9934501167026063]\n",
      "s_auc_score_mean:  0.9932555206726245\n",
      "s_f1_score_mean:  0.9445635914648884\n",
      "s_score_std:  0.0011600618922202413\n"
     ]
    }
   ],
   "source": [
    "THR = 0.5 #f1阈值\n",
    "folds = 7 \n",
    "seed = 2021\n",
    "def lgb_model(train_x, train_y, test_x):\n",
    "    \n",
    "    kf = StratifiedKFold(n_splits=folds, shuffle=True, random_state=seed)\n",
    "    train = np.zeros(train_x.shape[0])\n",
    "    test = np.zeros(test_x.shape[0])\n",
    "\n",
    "    cv_scores = []\n",
    "    f1_scores = []\n",
    "    test_pre = []\n",
    "    Feass = pd.DataFrame()\n",
    "\n",
    "    for i, (train_index, valid_index) in enumerate(kf.split(train_x, train_y)):\n",
    "        print('----------------------------------- {} -----------------------------------'.format(str(i+1)))\n",
    "        trn_x, trn_y, val_x, val_y = train_x.iloc[train_index], train_y[train_index], train_x.iloc[valid_index], train_y[valid_index]\n",
    "\n",
    "\n",
    "        train_matrix = lgb.Dataset(trn_x, label=trn_y)\n",
    "        valid_matrix = lgb.Dataset(val_x, label=val_y)\n",
    "        fea = pd.DataFrame()\n",
    "\n",
    "            params = {\n",
    "                'boosting_type': 'gbdt',\n",
    "                'objective': 'binary',\n",
    "                'tree_learner':'serial',\n",
    "                'metric': 'auc',\n",
    "                'min_child_weight': 6,\n",
    "                'num_leaves': 2 ** 6,\n",
    "                'feature_fraction': 0.8,\n",
    "                'bagging_fraction': 0.8,\n",
    "                'bagging_freq': 4,\n",
    "                'learning_rate': 0.01,\n",
    "                'seed': 2021,\n",
    "                'nthread': 28,\n",
    "                'n_jobs':4,\n",
    "                'silent': True,\n",
    "                'verbose': -1,\n",
    "            }\n",
    "\n",
    "        model = lgb.train(params, train_matrix, 1000, valid_sets=[train_matrix, valid_matrix], \n",
    "                          categorical_feature =[] ,verbose_eval=200,early_stopping_rounds=200)\n",
    "        val_pred = model.predict(val_x, num_iteration=model.best_iteration)\n",
    "        test_pred = model.predict(test_x, num_iteration=model.best_iteration)\n",
    "        test_pre.append(test_pred)\n",
    "        fea['feas'] = train_x.columns.tolist()\n",
    "        fea['sorce'] = model.feature_importance()\n",
    "        Feass = pd.concat([Feass,fea],axis = 0)\n",
    "        print(list(sorted(zip(train_x.columns.tolist(), model.feature_importance()), key=lambda x:x[1], reverse=True))[:30])\n",
    "\n",
    "            \n",
    "        train[valid_index] = val_pred\n",
    "        cv_scores.append(roc_auc_score(val_y, val_pred))\n",
    "        f1_scores.append(f1_score(val_y,[1 if i>THR else 0 for i in val_pred]))\n",
    "        \n",
    "        \n",
    "        print(cv_scores)\n",
    "        print(f1_scores)\n",
    "    test = sum(test_pre) / folds\n",
    "    print(f\"s_scotrainre_list:  {cv_scores}\")\n",
    "    print(f\"s_auc_score_mean:  {np.mean(cv_scores)}\")\n",
    "    print(f\"s_f1_score_mean:  {np.mean(f1_scores)}\")\n",
    "    print(f\"s_score_std:  {np.std(cv_scores)}\")\n",
    "\n",
    "    return train, test, Feass\n",
    "\n",
    "\n",
    "lgb_train, lgb_test ,Feass= lgb_model(x_train, y_train, x_test)"
   ]
  },
  {
   "cell_type": "code",
   "execution_count": 6,
   "metadata": {
    "ExecuteTime": {
     "end_time": "2022-06-25T18:46:11.992211Z",
     "start_time": "2022-06-25T18:46:11.979246Z"
    }
   },
   "outputs": [
    {
     "data": {
      "text/plain": [
       "0    593\n",
       "1    407\n",
       "dtype: int64"
      ]
     },
     "execution_count": 6,
     "metadata": {},
     "output_type": "execute_result"
    }
   ],
   "source": [
    "pd.Series([1 if i >0.4 else 0 for i in lgb_test]).value_counts()"
   ]
  },
  {
   "cell_type": "code",
   "execution_count": 7,
   "metadata": {
    "ExecuteTime": {
     "end_time": "2022-06-25T18:46:12.007171Z",
     "start_time": "2022-06-25T18:46:11.993209Z"
    }
   },
   "outputs": [],
   "source": [
    "sub['label'] = [1 if i >0.4 else 0 for i in lgb_test]\n",
    "sub.to_csv('base_94456_407.csv',index =False)"
   ]
  },
  {
   "cell_type": "code",
   "execution_count": null,
   "metadata": {},
   "outputs": [],
   "source": []
  }
 ],
 "metadata": {
  "kernelspec": {
   "display_name": "Python 3",
   "language": "python",
   "name": "python3"
  },
  "language_info": {
   "codemirror_mode": {
    "name": "ipython",
    "version": 3
   },
   "file_extension": ".py",
   "mimetype": "text/x-python",
   "name": "python",
   "nbconvert_exporter": "python",
   "pygments_lexer": "ipython3",
   "version": "3.7.1"
  }
 },
 "nbformat": 4,
 "nbformat_minor": 5
}

{
 "cells": [
  {
   "cell_type": "code",
   "execution_count": 235,
   "metadata": {},
   "outputs": [],
   "source": [
    "#bhv_train.csv，训练集数据，包含脱敏后的客户行为数据。\n",
    "#cust_train.csv，训练集数据，脱敏后的客户基本情况信息。\n",
    "#train_label.csv，训练集数据，包含脱敏后的客户ID（客户唯一识别号）和相应label（标签）。\n",
    "#loan_train.csv，训练集数据，脱敏后的客户贷款数据。\n",
    "#trans_train.csv，训练集数据，脱敏后的客户交易信息。\n",
    "#asset_train.csv，训练集数据，脱敏后的客户资产信息。\n",
    "import warnings\n",
    "import lightgbm as lgb\n",
    "from lightgbm import early_stopping\n",
    "from lightgbm import log_evaluation\n",
    "from sklearn.model_selection import StratifiedKFold,KFold\n",
    "from sklearn.preprocessing import LabelEncoder\n",
    "from tqdm import tqdm\n",
    "import pandas as pd\n",
    "import numpy as np\n",
    "import matplotlib.pyplot as plt\n",
    "import gc\n",
    "warnings.simplefilter('ignore')\n",
    "# 读取训练数据\n",
    "ass_train = pd.read_csv('../input/赛题A_预赛数据/训练集/asset_train.csv')\n",
    "bhv_train = pd.read_csv('../input/赛题A_预赛数据/训练集/bhv_train.csv')\n",
    "cust_train = pd.read_csv('../input/赛题A_预赛数据/训练集/cust_train.csv')\n",
    "train_label = pd.read_csv('../input/赛题A_预赛数据/训练集/train_label.csv')\n",
    "loan_train = pd.read_csv('../input/赛题A_预赛数据/训练集/loan_train.csv')\n",
    "trans_train = pd.read_csv('../input/赛题A_预赛数据/训练集/trans_train.csv')\n",
    "\n",
    "ass_test = pd.read_csv('../input/赛题A_预赛数据/测试集/asset_test.csv')\n",
    "bhv_test = pd.read_csv('../input/赛题A_预赛数据/测试集/bhv_test.csv')\n",
    "cust_test = pd.read_csv('../input/赛题A_预赛数据/测试集/cust_test.csv')\n",
    "loan_test = pd.read_csv('../input/赛题A_预赛数据/测试集/loan_test.csv')\n",
    "trans_test = pd.read_csv('../input/赛题A_预赛数据/测试集/trans_test.csv')"
   ]
  },
  {
   "cell_type": "code",
   "execution_count": 236,
   "metadata": {},
   "outputs": [
    {
     "name": "stdout",
     "output_type": "stream",
     "text": [
      "(3600, 55)\n",
      "3600\n"
     ]
    }
   ],
   "source": [
    "train = cust_train.merge(train_label, on = 'id', how = 'left')\n",
    "train = train.merge(ass_train, on = 'id', how = 'left')\n",
    "train = train.merge(bhv_train, on = 'id', how = 'left')\n",
    "train = train.merge(loan_train, on = 'id', how = 'left')\n",
    "train = train.merge(trans_train, on = 'id', how = 'left')\n",
    "\n",
    "test = cust_test.merge(ass_test, on = 'id', how = 'left')\n",
    "test = test.merge(bhv_test, on = 'id', how = 'left')\n",
    "test = test.merge(loan_test, on = 'id', how = 'left')\n",
    "test = test.merge(trans_test, on = 'id', how = 'left')\n",
    "\n",
    "data = train.append(test).reset_index(drop=True)\n",
    "print(test.shape)\n",
    "print(data['label'].isna().sum())"
   ]
  },
  {
   "cell_type": "code",
   "execution_count": 218,
   "metadata": {},
   "outputs": [],
   "source": [
    "# def f1(x):\n",
    "#     return int(str(x)[:4])\n",
    "# def f2(x):\n",
    "#     return int(str(x)[4:6])\n",
    "# data['a20'] = data['a20'].fillna(100000.0) \n",
    "# data['a21'] = data['a21'].fillna(100000.0) \n",
    "# data['loan_gap'] = data['a21'] - data['a20']\n",
    "# data['a20_year'] = data['a20'].apply(f1)\n",
    "# data['a20_month'] = data['a20'].apply(f2)\n",
    "# data['a21_year'] = data['a21'].apply(f1)\n",
    "# data['a21_year'] = data['a21'].apply(f2)"
   ]
  },
  {
   "cell_type": "code",
   "execution_count": 237,
   "metadata": {},
   "outputs": [],
   "source": [
    "#data['loan_gap'] = data['a21'] - data['a20']\n",
    "#data['last_money_save'] = data['a28'] - data['a29']\n",
    "#data['money_save'] = data['a32'] - data['a33']\n",
    "#data['s_ratio'] = data['a34'] / (data['a30']+1e-5)\n",
    "#data['g_ratio'] = data['a35'] / (data['a31']+1e-5)"
   ]
  },
  {
   "cell_type": "code",
   "execution_count": 238,
   "metadata": {},
   "outputs": [],
   "source": [
    "# data.loc[data['a28'] <= data['a29'],'f28_29_mark'] = 0\n",
    "# data.loc[data['a28'] > data['a29'],'f28_29_mark'] = 1\n",
    "# data.loc[data['a32'] <= data['a33'],'f32_33_mark'] = 0\n",
    "# data.loc[data['a32'] > data['a33'],'f32_33_mark'] = 1"
   ]
  },
  {
   "cell_type": "code",
   "execution_count": 239,
   "metadata": {},
   "outputs": [],
   "source": [
    "drop_cols = ['id','label']\n",
    "for f in data.columns:\n",
    "    if data[f].nunique() < 2:\n",
    "        drop_cols.append(f)\n",
    "    if data[~data[f].isna()][f].value_counts().values[0] / data[~data[f].isna()].shape[0] > 0.99:\n",
    "        drop_cols.append(f)"
   ]
  },
  {
   "cell_type": "code",
   "execution_count": 240,
   "metadata": {},
   "outputs": [
    {
     "data": {
      "text/html": [
       "<div>\n",
       "<style scoped>\n",
       "    .dataframe tbody tr th:only-of-type {\n",
       "        vertical-align: middle;\n",
       "    }\n",
       "\n",
       "    .dataframe tbody tr th {\n",
       "        vertical-align: top;\n",
       "    }\n",
       "\n",
       "    .dataframe thead th {\n",
       "        text-align: right;\n",
       "    }\n",
       "</style>\n",
       "<table border=\"1\" class=\"dataframe\">\n",
       "  <thead>\n",
       "    <tr style=\"text-align: right;\">\n",
       "      <th></th>\n",
       "      <th>id</th>\n",
       "      <th>a1</th>\n",
       "      <th>a2</th>\n",
       "      <th>a3</th>\n",
       "      <th>a4</th>\n",
       "      <th>a5</th>\n",
       "      <th>a6</th>\n",
       "      <th>a7</th>\n",
       "      <th>a8</th>\n",
       "      <th>a9</th>\n",
       "      <th>...</th>\n",
       "      <th>a27</th>\n",
       "      <th>a28</th>\n",
       "      <th>a29</th>\n",
       "      <th>a30</th>\n",
       "      <th>a31</th>\n",
       "      <th>a32</th>\n",
       "      <th>a33</th>\n",
       "      <th>a34</th>\n",
       "      <th>a35</th>\n",
       "      <th>loan_gap</th>\n",
       "    </tr>\n",
       "  </thead>\n",
       "  <tbody>\n",
       "    <tr>\n",
       "      <th>0</th>\n",
       "      <td>532032d9e16e123c4885236cf1fc2d1e</td>\n",
       "      <td>2</td>\n",
       "      <td>67.0</td>\n",
       "      <td>4.0</td>\n",
       "      <td>5</td>\n",
       "      <td>0</td>\n",
       "      <td>0</td>\n",
       "      <td>0.0</td>\n",
       "      <td>1</td>\n",
       "      <td>0</td>\n",
       "      <td>...</td>\n",
       "      <td>0.0</td>\n",
       "      <td>0.0000</td>\n",
       "      <td>0.0</td>\n",
       "      <td>0</td>\n",
       "      <td>0</td>\n",
       "      <td>0.00</td>\n",
       "      <td>0.0</td>\n",
       "      <td>0</td>\n",
       "      <td>0</td>\n",
       "      <td>NaN</td>\n",
       "    </tr>\n",
       "    <tr>\n",
       "      <th>1</th>\n",
       "      <td>3fcdc734dc2fefa8acb0bf4f48e8fcf4</td>\n",
       "      <td>2</td>\n",
       "      <td>3.0</td>\n",
       "      <td>4.0</td>\n",
       "      <td>5</td>\n",
       "      <td>0</td>\n",
       "      <td>0</td>\n",
       "      <td>0.0</td>\n",
       "      <td>0</td>\n",
       "      <td>0</td>\n",
       "      <td>...</td>\n",
       "      <td>0.0</td>\n",
       "      <td>0.0000</td>\n",
       "      <td>0.0</td>\n",
       "      <td>0</td>\n",
       "      <td>0</td>\n",
       "      <td>0.00</td>\n",
       "      <td>0.0</td>\n",
       "      <td>0</td>\n",
       "      <td>0</td>\n",
       "      <td>NaN</td>\n",
       "    </tr>\n",
       "    <tr>\n",
       "      <th>2</th>\n",
       "      <td>02ec6569f2679be5dfc3d075a1ccf87b</td>\n",
       "      <td>2</td>\n",
       "      <td>2.0</td>\n",
       "      <td>5.0</td>\n",
       "      <td>5</td>\n",
       "      <td>0</td>\n",
       "      <td>0</td>\n",
       "      <td>0.0</td>\n",
       "      <td>4</td>\n",
       "      <td>0</td>\n",
       "      <td>...</td>\n",
       "      <td>0.0</td>\n",
       "      <td>9971.6208</td>\n",
       "      <td>9500.0</td>\n",
       "      <td>2</td>\n",
       "      <td>1</td>\n",
       "      <td>177.56</td>\n",
       "      <td>0.0</td>\n",
       "      <td>1</td>\n",
       "      <td>0</td>\n",
       "      <td>NaN</td>\n",
       "    </tr>\n",
       "    <tr>\n",
       "      <th>3</th>\n",
       "      <td>888c49cb3235fa8eaede9ad4c68aa6a1</td>\n",
       "      <td>1</td>\n",
       "      <td>70.0</td>\n",
       "      <td>1.0</td>\n",
       "      <td>5</td>\n",
       "      <td>0</td>\n",
       "      <td>0</td>\n",
       "      <td>0.0</td>\n",
       "      <td>4</td>\n",
       "      <td>0</td>\n",
       "      <td>...</td>\n",
       "      <td>0.0</td>\n",
       "      <td>0.0000</td>\n",
       "      <td>0.0</td>\n",
       "      <td>0</td>\n",
       "      <td>0</td>\n",
       "      <td>103500.00</td>\n",
       "      <td>94500.0</td>\n",
       "      <td>1</td>\n",
       "      <td>1</td>\n",
       "      <td>NaN</td>\n",
       "    </tr>\n",
       "    <tr>\n",
       "      <th>4</th>\n",
       "      <td>9994690c6eb5faa7805944d5de3e69bc</td>\n",
       "      <td>1</td>\n",
       "      <td>8.0</td>\n",
       "      <td>6.0</td>\n",
       "      <td>5</td>\n",
       "      <td>0</td>\n",
       "      <td>0</td>\n",
       "      <td>0.0</td>\n",
       "      <td>0</td>\n",
       "      <td>0</td>\n",
       "      <td>...</td>\n",
       "      <td>0.0</td>\n",
       "      <td>0.0000</td>\n",
       "      <td>0.0</td>\n",
       "      <td>0</td>\n",
       "      <td>0</td>\n",
       "      <td>0.00</td>\n",
       "      <td>0.0</td>\n",
       "      <td>0</td>\n",
       "      <td>0</td>\n",
       "      <td>NaN</td>\n",
       "    </tr>\n",
       "  </tbody>\n",
       "</table>\n",
       "<p>5 rows × 57 columns</p>\n",
       "</div>"
      ],
      "text/plain": [
       "                                 id  a1    a2   a3  a4  a5  a6   a7  a8  a9  \\\n",
       "0  532032d9e16e123c4885236cf1fc2d1e   2  67.0  4.0   5   0   0  0.0   1   0   \n",
       "1  3fcdc734dc2fefa8acb0bf4f48e8fcf4   2   3.0  4.0   5   0   0  0.0   0   0   \n",
       "2  02ec6569f2679be5dfc3d075a1ccf87b   2   2.0  5.0   5   0   0  0.0   4   0   \n",
       "3  888c49cb3235fa8eaede9ad4c68aa6a1   1  70.0  1.0   5   0   0  0.0   4   0   \n",
       "4  9994690c6eb5faa7805944d5de3e69bc   1   8.0  6.0   5   0   0  0.0   0   0   \n",
       "\n",
       "   ...  a27        a28     a29  a30  a31        a32      a33  a34  a35  \\\n",
       "0  ...  0.0     0.0000     0.0    0    0       0.00      0.0    0    0   \n",
       "1  ...  0.0     0.0000     0.0    0    0       0.00      0.0    0    0   \n",
       "2  ...  0.0  9971.6208  9500.0    2    1     177.56      0.0    1    0   \n",
       "3  ...  0.0     0.0000     0.0    0    0  103500.00  94500.0    1    1   \n",
       "4  ...  0.0     0.0000     0.0    0    0       0.00      0.0    0    0   \n",
       "\n",
       "   loan_gap  \n",
       "0       NaN  \n",
       "1       NaN  \n",
       "2       NaN  \n",
       "3       NaN  \n",
       "4       NaN  \n",
       "\n",
       "[5 rows x 57 columns]"
      ]
     },
     "execution_count": 240,
     "metadata": {},
     "output_type": "execute_result"
    }
   ],
   "source": [
    "cat_f = ['a1','a4']\n",
    "for f in cat_f:\n",
    "    data[f] = data[f].astype(str)\n",
    "    le = LabelEncoder()\n",
    "    data[f] = le.fit_transform(data[f])\n",
    "data.head()"
   ]
  },
  {
   "cell_type": "code",
   "execution_count": 241,
   "metadata": {},
   "outputs": [],
   "source": [
    "test_df = data[data[\"label\"].isnull() == True].copy().reset_index(drop=True)\n",
    "train_df = data[~data[\"label\"].isnull() == True].copy().reset_index(drop=True)"
   ]
  },
  {
   "cell_type": "code",
   "execution_count": 242,
   "metadata": {},
   "outputs": [],
   "source": [
    "feature_name = [f for f in data.columns if f not in drop_cols]"
   ]
  },
  {
   "cell_type": "code",
   "execution_count": 243,
   "metadata": {},
   "outputs": [
    {
     "name": "stdout",
     "output_type": "stream",
     "text": [
      "50\n",
      "['a1', 'a2', 'a3', 'a4', 'a5', 'a6', 'a7', 'a8', 'a9', 'a10', 'a11', 'a13', 'a14', 'a16', 'a17', 'a49', 'a50', 'a51', 'a52', 'a53', 'a54', 'a38', 'a40', 'a41', 'a42', 'a43', 'a44', 'a45', 'a46', 'a47', 'a48', 'a18', 'a19', 'a20', 'a21', 'a22', 'a23', 'a24', 'a25', 'a26', 'a27', 'a28', 'a29', 'a30', 'a31', 'a32', 'a33', 'a34', 'a35', 'loan_gap']\n"
     ]
    }
   ],
   "source": [
    "X_train = train_df[feature_name].reset_index(drop=True)\n",
    "X_test = test_df[feature_name].reset_index(drop=True)\n",
    "y = train_df['label'].reset_index(drop=True)\n",
    "print(len(feature_name))\n",
    "print(feature_name)"
   ]
  },
  {
   "cell_type": "code",
   "execution_count": 244,
   "metadata": {},
   "outputs": [],
   "source": [
    "train_pred = {}\n",
    "test_pred = {}"
   ]
  },
  {
   "cell_type": "code",
   "execution_count": 245,
   "metadata": {},
   "outputs": [
    {
     "name": "stdout",
     "output_type": "stream",
     "text": [
      "2 --------------------------------------------------------------------------------------------\n",
      "Training until validation scores don't improve for 100 rounds\n",
      "[100]\tvalid_0's auc: 0.876655\n",
      "[200]\tvalid_0's auc: 0.875706\n",
      "Early stopping, best iteration is:\n",
      "[118]\tvalid_0's auc: 0.87725\n",
      "Training until validation scores don't improve for 100 rounds\n",
      "[100]\tvalid_0's auc: 0.891294\n",
      "[200]\tvalid_0's auc: 0.894749\n",
      "[300]\tvalid_0's auc: 0.892049\n",
      "Early stopping, best iteration is:\n",
      "[201]\tvalid_0's auc: 0.89481\n",
      "Training until validation scores don't improve for 100 rounds\n",
      "[100]\tvalid_0's auc: 0.907669\n",
      "[200]\tvalid_0's auc: 0.909585\n",
      "Early stopping, best iteration is:\n",
      "[155]\tvalid_0's auc: 0.90999\n",
      "Training until validation scores don't improve for 100 rounds\n",
      "[100]\tvalid_0's auc: 0.883069\n",
      "Early stopping, best iteration is:\n",
      "[68]\tvalid_0's auc: 0.884002\n",
      "Training until validation scores don't improve for 100 rounds\n",
      "[100]\tvalid_0's auc: 0.881156\n",
      "[200]\tvalid_0's auc: 0.881527\n",
      "Early stopping, best iteration is:\n",
      "[123]\tvalid_0's auc: 0.882878\n"
     ]
    },
    {
     "data": {
      "text/plain": [
       "3131"
      ]
     },
     "execution_count": 245,
     "metadata": {},
     "output_type": "execute_result"
    }
   ],
   "source": [
    "# seeds = [2222, 5, 4, 2, 209, 4096, 2048, 1024, 2015, 1015, 820]#11\n",
    "seeds = [2]#2\n",
    "num_model_seed = 1\n",
    "oof = np.zeros(X_train.shape[0])\n",
    "prediction = np.zeros(X_test.shape[0])\n",
    "feat_imp_df = pd.DataFrame({'feats': feature_name, 'imp': 0})\n",
    "parameters = {\n",
    "    'learning_rate': 0.008,\n",
    "    'boosting_type': 'gbdt',\n",
    "    'objective': 'binary',\n",
    "    'metric': 'auc',\n",
    "    'num_leaves': 63,\n",
    "    'feature_fraction': 0.8,#原来0.8\n",
    "    'bagging_fraction': 0.8,\n",
    "    'bagging_freq': 5,#5\n",
    "    'seed': 2,\n",
    "    'bagging_seed': 1,\n",
    "    'feature_fraction_seed': 7,\n",
    "    'min_data_in_leaf': 20,\n",
    "    'verbose': -1, \n",
    "    'n_jobs':8\n",
    "}\n",
    "fold = 5\n",
    "for model_seed in range(num_model_seed):\n",
    "    print(seeds[model_seed],\"--------------------------------------------------------------------------------------------\")\n",
    "    oof_cat = np.zeros(X_train.shape[0])\n",
    "    prediction_cat = np.zeros(X_test.shape[0])\n",
    "    skf = StratifiedKFold(n_splits=fold, random_state=seeds[model_seed], shuffle=True)\n",
    "    for index, (train_index, test_index) in enumerate(skf.split(X_train, y)):\n",
    "        train_x, test_x, train_y, test_y = X_train[feature_name].iloc[train_index], X_train[feature_name].iloc[test_index], y.iloc[train_index], y.iloc[test_index]\n",
    "        dtrain = lgb.Dataset(train_x, label=train_y)\n",
    "        dval = lgb.Dataset(test_x, label=test_y)\n",
    "        lgb_model = lgb.train(\n",
    "            parameters,\n",
    "            dtrain,\n",
    "            num_boost_round=10000,\n",
    "            valid_sets=[dval],\n",
    "            early_stopping_rounds=100,\n",
    "            verbose_eval=100, )\n",
    "        oof_cat[test_index] += lgb_model.predict(test_x,num_iteration=lgb_model.best_iteration)\n",
    "        prediction_cat += lgb_model.predict(X_test,num_iteration=lgb_model.best_iteration) / fold\n",
    "        feat_imp_df['imp'] += lgb_model.feature_importance()\n",
    "\n",
    "        del train_x\n",
    "        del test_x\n",
    "        del train_y\n",
    "        del test_y\n",
    "        del lgb_model\n",
    "    oof += oof_cat / num_model_seed\n",
    "    prediction += prediction_cat / num_model_seed\n",
    "gc.collect()"
   ]
  },
  {
   "cell_type": "code",
   "execution_count": 246,
   "metadata": {},
   "outputs": [
    {
     "name": "stdout",
     "output_type": "stream",
     "text": [
      "       feats   imp\n",
      "1         a2  3076\n",
      "2         a3  2776\n",
      "15       a49  2450\n",
      "16       a50  2289\n",
      "17       a51  2150\n",
      "7         a8  2045\n",
      "20       a54  2041\n",
      "18       a52  1992\n",
      "46       a33  1985\n",
      "38       a25  1820\n",
      "3         a4  1790\n",
      "41       a28  1729\n",
      "45       a32  1716\n",
      "19       a53  1686\n",
      "42       a29  1549\n",
      "29       a47  1086\n",
      "44       a31  1058\n",
      "0         a1   835\n",
      "48       a35   833\n",
      "47       a34   755\n",
      "43       a30   515\n",
      "6         a7   424\n",
      "40       a27   407\n",
      "9        a10   406\n",
      "39       a26   383\n",
      "28       a46   354\n",
      "34       a21   315\n",
      "37       a24   276\n",
      "33       a20   268\n",
      "30       a48   253\n",
      "23       a41   247\n",
      "36       a23   168\n",
      "22       a40   155\n",
      "26       a44   153\n",
      "25       a43   139\n",
      "27       a45   138\n",
      "35       a22   137\n",
      "32       a19   130\n",
      "4         a5   123\n",
      "10       a11   117\n",
      "21       a38   113\n",
      "5         a6   105\n",
      "24       a42    77\n",
      "49  loan_gap    70\n",
      "12       a14    34\n",
      "13       a16    33\n",
      "31       a18    12\n",
      "14       a17     7\n",
      "11       a13     7\n",
      "8         a9     3\n"
     ]
    }
   ],
   "source": [
    "print(feat_imp_df.sort_values('imp', ascending=False))"
   ]
  },
  {
   "cell_type": "code",
   "execution_count": 247,
   "metadata": {},
   "outputs": [],
   "source": [
    "train_pred['lgb'] = oof\n",
    "test_pred['lgb'] = prediction"
   ]
  },
  {
   "cell_type": "code",
   "execution_count": 248,
   "metadata": {},
   "outputs": [
    {
     "name": "stdout",
     "output_type": "stream",
     "text": [
      "lgb train auc:  0.883565921606738\n"
     ]
    }
   ],
   "source": [
    "from sklearn.metrics import accuracy_score, f1_score, roc_auc_score, log_loss\n",
    "print(\"lgb train auc: \", roc_auc_score(y, train_pred['lgb']))"
   ]
  },
  {
   "cell_type": "code",
   "execution_count": 249,
   "metadata": {},
   "outputs": [
    {
     "name": "stdout",
     "output_type": "stream",
     "text": [
      "0.10, 0.11, 0.12, 0.13, 0.14, 0.15, 0.16, 0.17, 0.18, 0.19, 0.20, 0.21, 0.22, 0.23, 0.24, 0.25, 0.26, 0.27, 0.28, 0.29, 0.30, 0.31, 0.32, 0.33, 0.34, 0.35, 0.36, 0.37, 0.38, 0.39, 0.40, 0.41, 0.42, 0.43, 0.44, 0.45, 0.46, 0.47, 0.48, 0.49, 0.50, 0.51, 0.52, 0.53, 0.54, 0.55, 0.56, 0.57, 0.58, 0.59, 0.60, 0.61, 0.62, 0.63, 0.64, 0.65, 0.66, 0.67, 0.68, 0.69, 0.70, 0.71, 0.72, 0.73, 0.74, 0.75, 0.76, 0.77, 0.78, 0.79, 0.80, 0.81, 0.82, 0.83, 0.84, 0.85, 0.86, 0.87, 0.88, 0.89, "
     ]
    }
   ],
   "source": [
    "scores = []; thresholds = []\n",
    "best_score = 0; best_threshold = 0\n",
    "\n",
    "for threshold in np.arange(0.1,0.9,0.01):\n",
    "    print(f'{threshold:.02f}, ',end='')\n",
    "    preds = (train_pred['lgb'].reshape((-1)) > threshold).astype('int')\n",
    "    m = f1_score(y.values.reshape((-1)), preds, average='binary')   \n",
    "    scores.append(m)\n",
    "    thresholds.append(threshold)\n",
    "    if m>best_score:\n",
    "        best_score = m\n",
    "        best_threshold = threshold"
   ]
  },
  {
   "cell_type": "code",
   "execution_count": 250,
   "metadata": {},
   "outputs": [
    {
     "data": {
      "image/png": "[encoded data removed]",
      "text/plain": [
       "<Figure size 2000x500 with 1 Axes>"
      ]
     },
     "metadata": {},
     "output_type": "display_data"
    }
   ],
   "source": [
    "import matplotlib.pyplot as plt\n",
    "\n",
    "# PLOT THRESHOLD VS. F1_SCORE\n",
    "plt.figure(figsize=(20,5))\n",
    "plt.plot(thresholds,scores,'-o',color='blue')\n",
    "plt.scatter([best_threshold], [best_score], color='blue', s=300, alpha=1)\n",
    "plt.xlabel('Threshold',size=14)\n",
    "plt.ylabel('Validation F1 Score',size=14)\n",
    "plt.title(f'Threshold vs. F1_Score with Best F1_Score = {best_score:.3f} at Best Threshold = {best_threshold:.3}',size=18)\n",
    "plt.show()"
   ]
  },
  {
   "cell_type": "code",
   "execution_count": 251,
   "metadata": {},
   "outputs": [
    {
     "name": "stdout",
     "output_type": "stream",
     "text": [
      "0.652128600011433\n"
     ]
    }
   ],
   "source": [
    "auc = roc_auc_score(y, train_pred['lgb'])\n",
    "f1 = best_score\n",
    "print(auc*0.3 + f1*0.7)"
   ]
  },
  {
   "cell_type": "code",
   "execution_count": 252,
   "metadata": {},
   "outputs": [
    {
     "data": {
      "text/plain": [
       "512"
      ]
     },
     "execution_count": 252,
     "metadata": {},
     "output_type": "execute_result"
    }
   ],
   "source": [
    "label=[1 if x >= best_threshold else 0 for x in prediction]\n",
    "np.sum(label)"
   ]
  },
  {
   "cell_type": "code",
   "execution_count": 253,
   "metadata": {},
   "outputs": [
    {
     "data": {
      "text/html": [
       "<div>\n",
       "<style scoped>\n",
       "    .dataframe tbody tr th:only-of-type {\n",
       "        vertical-align: middle;\n",
       "    }\n",
       "\n",
       "    .dataframe tbody tr th {\n",
       "        vertical-align: top;\n",
       "    }\n",
       "\n",
       "    .dataframe thead th {\n",
       "        text-align: right;\n",
       "    }\n",
       "</style>\n",
       "<table border=\"1\" class=\"dataframe\">\n",
       "  <thead>\n",
       "    <tr style=\"text-align: right;\">\n",
       "      <th></th>\n",
       "      <th>id</th>\n",
       "      <th>pred_prob</th>\n",
       "      <th>pred_label</th>\n",
       "    </tr>\n",
       "  </thead>\n",
       "  <tbody>\n",
       "    <tr>\n",
       "      <th>0</th>\n",
       "      <td>9bb9cdf5c620d3e544ecc40c323891e7</td>\n",
       "      <td>0.060198</td>\n",
       "      <td>0</td>\n",
       "    </tr>\n",
       "    <tr>\n",
       "      <th>1</th>\n",
       "      <td>4df9fa2db089bfdfd3c0f6fb480d7081</td>\n",
       "      <td>0.222807</td>\n",
       "      <td>1</td>\n",
       "    </tr>\n",
       "    <tr>\n",
       "      <th>2</th>\n",
       "      <td>f700afd6a245cd5deadd7d23ae91bc76</td>\n",
       "      <td>0.055288</td>\n",
       "      <td>0</td>\n",
       "    </tr>\n",
       "    <tr>\n",
       "      <th>3</th>\n",
       "      <td>4ee4f29b6bdacb6432175fe1a695580b</td>\n",
       "      <td>0.051162</td>\n",
       "      <td>0</td>\n",
       "    </tr>\n",
       "    <tr>\n",
       "      <th>4</th>\n",
       "      <td>bda4cef7762b3fb7531f426659c8a160</td>\n",
       "      <td>0.134847</td>\n",
       "      <td>0</td>\n",
       "    </tr>\n",
       "  </tbody>\n",
       "</table>\n",
       "</div>"
      ],
      "text/plain": [
       "                                 id  pred_prob  pred_label\n",
       "0  9bb9cdf5c620d3e544ecc40c323891e7   0.060198           0\n",
       "1  4df9fa2db089bfdfd3c0f6fb480d7081   0.222807           1\n",
       "2  f700afd6a245cd5deadd7d23ae91bc76   0.055288           0\n",
       "3  4ee4f29b6bdacb6432175fe1a695580b   0.051162           0\n",
       "4  bda4cef7762b3fb7531f426659c8a160   0.134847           0"
      ]
     },
     "execution_count": 253,
     "metadata": {},
     "output_type": "execute_result"
    }
   ],
   "source": [
    "sub = test[['id']]\n",
    "sub['pred_prob'] = prediction\n",
    "sub['pred_label'] = label\n",
    "sub.head()"
   ]
  },
  {
   "cell_type": "code",
   "execution_count": 254,
   "metadata": {},
   "outputs": [],
   "source": [
    "sub.to_csv('/home/workspace/output/submit.csv',index=0)"
   ]
  },
  {
   "cell_type": "code",
   "execution_count": 255,
   "metadata": {},
   "outputs": [
    {
     "name": "stdout",
     "output_type": "stream",
     "text": [
      "\n",
      "\n",
      "     ▄████▄  ▄▄▄       ██████▄▄▄█████▓██▓   ▓█████ \n",
      "    ▒██▀ ▀█ ▒████▄   ▒██    ▒▓  ██▒ ▓▓██▒   ▓█   ▀ \n",
      "    ▒▓█    ▄▒██  ▀█▄ ░ ▓██▄  ▒ ▓██░ ▒▒██░   ▒███   \n",
      "    ▒▓▓▄ ▄██░██▄▄▄▄██  ▒   ██░ ▓██▓ ░▒██░   ▒▓█  ▄ \n",
      "    ▒ ▓███▀ ░▓█   ▓██▒██████▒▒ ▒██▒ ░░██████░▒████▒\n",
      "    ░ ░▒ ▒  ░▒▒   ▓▒█▒ ▒▓▒ ▒ ░ ▒ ░░  ░ ▒░▓  ░░ ▒░ ░\n",
      "      ░  ▒    ▒   ▒▒ ░ ░▒  ░ ░   ░   ░ ░ ▒  ░░ ░  ░\n",
      "    ░         ░   ▒  ░  ░  ░   ░       ░ ░     ░   \n",
      "    ░ ░           ░  ░     ░             ░  ░  ░  ░\n",
      "    ░                                              \n",
      "\n",
      "    \n",
      "〔 版本状态 〕 v0.14 \n",
      "〔 校验权限 〕 有效 \n",
      "〔 竞赛信息 〕 赛道A：个人消费贷款申贷客户识别 \n",
      "〔 用户信息 〕 是小泽 \n",
      "〔 提交备注 〕  \n",
      "〔 文件分段 〕 [1]段 \n",
      "〔 上传进度 〕 [##################################################]100%        1/1\n",
      "〔 资源标识 〕 00000187F0F1B97B84CC35CABDEF7FD5 \n",
      "〔 提交状态 〕 成功 \n",
      "\n"
     ]
    }
   ],
   "source": [
    "! castlecli --third local --token a37c1570991261a30b300c4d69dd8dff --source /home/workspace/output/submit.csv"
   ]
  },
  {
   "cell_type": "code",
   "execution_count": null,
   "metadata": {},
   "outputs": [],
   "source": []
  }
 ],
 "metadata": {
  "kernelspec": {
   "display_name": "Python 3 (ipykernel)",
   "language": "python",
   "name": "python3"
  },
  "language_info": {
   "codemirror_mode": {
    "name": "ipython",
    "version": 3
   },
   "file_extension": ".py",
   "mimetype": "text/x-python",
   "name": "python",
   "nbconvert_exporter": "python",
   "pygments_lexer": "ipython3",
   "version": "3.7.5"
  }
 },
 "nbformat": 4,
 "nbformat_minor": 4
}

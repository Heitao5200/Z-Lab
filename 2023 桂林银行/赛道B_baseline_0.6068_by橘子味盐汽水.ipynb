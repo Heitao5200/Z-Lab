{
 "cells": [
  {
   "cell_type": "code",
   "execution_count": 143,
   "metadata": {},
   "outputs": [],
   "source": [
    "import warnings\n",
    "import lightgbm as lgb\n",
    "from lightgbm import early_stopping\n",
    "from lightgbm import log_evaluation\n",
    "from sklearn.model_selection import StratifiedKFold,KFold\n",
    "from sklearn.preprocessing import LabelEncoder\n",
    "from tqdm import tqdm\n",
    "import pandas as pd\n",
    "import numpy as np\n",
    "import matplotlib.pyplot as plt\n",
    "\n",
    "warnings.simplefilter('ignore')"
   ]
  },
  {
   "cell_type": "code",
   "execution_count": 144,
   "metadata": {},
   "outputs": [],
   "source": [
    "# 读取训练数据\n",
    "acc_train = pd.read_csv('../input/赛题B_预赛数据/训练集/acct_train.csv')\n",
    "bhv_train = pd.read_csv('../input/赛题B_预赛数据/训练集/bhv_train.csv')\n",
    "cust_train = pd.read_csv('../input/赛题B_预赛数据/训练集/cust_train.csv')\n",
    "train_label = pd.read_csv('../input/赛题B_预赛数据/训练集/train_label.csv')"
   ]
  },
  {
   "cell_type": "code",
   "execution_count": 145,
   "metadata": {},
   "outputs": [],
   "source": [
    "# 读取测试数据\n",
    "acct_test = pd.read_csv('../input/赛题B_预赛数据/测试集/acct_test.csv')\n",
    "bhv_test = pd.read_csv('../input/赛题B_预赛数据/测试集/bhv_test.csv')\n",
    "cust_test = pd.read_csv('../input/赛题B_预赛数据/测试集/cust_test.csv')"
   ]
  },
  {
   "cell_type": "code",
   "execution_count": 146,
   "metadata": {},
   "outputs": [],
   "source": [
    "# 拼接数据\n",
    "train_data = acc_train.merge(bhv_train,on='id',how='left').merge(cust_train,on='id',how='left').merge(train_label,on='id',how='left')\n",
    "test_data = acct_test.merge(bhv_test,on='id',how='left').merge(cust_test,on='id',how='left')"
   ]
  },
  {
   "cell_type": "code",
   "execution_count": 147,
   "metadata": {},
   "outputs": [],
   "source": [
    "# 拼接train test\n",
    "data = pd.concat([train_data,test_data])"
   ]
  },
  {
   "cell_type": "code",
   "execution_count": null,
   "metadata": {},
   "outputs": [],
   "source": [
    "data"
   ]
  },
  {
   "cell_type": "code",
   "execution_count": 149,
   "metadata": {},
   "outputs": [],
   "source": [
    "#类别特征\n",
    "cat_f = ['b2', 'b3','b28']\n",
    "for f in cat_f:\n",
    "    le = LabelEncoder()\n",
    "    data[f] = le.fit_transform(data[f].fillna('nan'))"
   ]
  },
  {
   "cell_type": "code",
   "execution_count": null,
   "metadata": {},
   "outputs": [],
   "source": [
    "#暴力构建b10-b28衍生\n",
    "loc_f = []\n",
    "for i in range(10,28,1):\n",
    "    loc_f.append('b'+str(i))\n",
    "print(loc_f)\n",
    "for i in tqdm(range(len(loc_f))):\n",
    "    for j in range(i + 1, len(loc_f)):\n",
    "        data[f'{loc_f[i]}+{loc_f[j]}'] = data[loc_f[i]] + data[loc_f[j]]\n",
    "        data[f'{loc_f[i]}-{loc_f[j]}'] = data[loc_f[i]] - data[loc_f[j]]\n",
    "        data[f'{loc_f[i]}*{loc_f[j]}'] = data[loc_f[i]] * data[loc_f[j]]\n",
    "        data[f'{loc_f[i]}/{loc_f[j]}'] = data[loc_f[i]] / (data[loc_f[j]] + 1e-3)"
   ]
  },
  {
   "cell_type": "code",
   "execution_count": 151,
   "metadata": {},
   "outputs": [],
   "source": [
    "#时间差值\n",
    "data['6-5'] = data['b6'] - data['b5']\n",
    "data['7-6'] = data['b7'] - data['b6']"
   ]
  },
  {
   "cell_type": "code",
   "execution_count": 152,
   "metadata": {},
   "outputs": [],
   "source": [
    "drop_cols= []\n",
    "for f in data.columns:\n",
    "    if data[f].nunique() < 2:\n",
    "        drop_cols.append(f)"
   ]
  },
  {
   "cell_type": "code",
   "execution_count": null,
   "metadata": {},
   "outputs": [],
   "source": [
    "drop_cols"
   ]
  },
  {
   "cell_type": "code",
   "execution_count": null,
   "metadata": {},
   "outputs": [],
   "source": [
    "feature_names = [i for i in data.columns if\n",
    "                 i not in ['id', 'label', 'b30', 'b4']]\n",
    "print(feature_names)"
   ]
  },
  {
   "cell_type": "code",
   "execution_count": 155,
   "metadata": {},
   "outputs": [],
   "source": [
    "train = data[~data['label'].isna()].reset_index(drop=True)\n",
    "test = data[data['label'].isna()].reset_index(drop=True)"
   ]
  },
  {
   "cell_type": "code",
   "execution_count": 156,
   "metadata": {},
   "outputs": [],
   "source": [
    "def lgb_model(train, target, test, k, seed):\n",
    "    feats = [f for f in train.columns if f not in ['id', 'label', 'b30', 'b4']]\n",
    "    print('Current num of features:', len(feats))\n",
    "\n",
    "    oof_probs = np.zeros((train.shape[0],))\n",
    "    output_preds = 0\n",
    "    offline_score = []\n",
    "    feature_importance_df = pd.DataFrame()\n",
    "    parameters = {\n",
    "         'boosting_type': 'gbdt',\n",
    "            'objective': 'binary',\n",
    "            'tree_learner':'serial',\n",
    "            # 'metric': 'auc',\n",
    "            'min_child_weight': 4,\n",
    "            'num_leaves': 64,\n",
    "            'feature_fraction': 0.8,\n",
    "            'bagging_fraction': 0.8,\n",
    "            'bagging_freq': 4,\n",
    "            'learning_rate': 0.01,\n",
    "            'seed': seed,\n",
    "            'nthread': 32,\n",
    "            'n_jobs':8,\n",
    "            'silent': True,\n",
    "            'verbose': -1,\n",
    "    }\n",
    "\n",
    "    seeds = [2222]\n",
    "    for seed in seeds:\n",
    "        folds = StratifiedKFold(n_splits=k, shuffle=True, random_state=seed)\n",
    "        for i, (train_index, test_index) in enumerate(folds.split(train, target)):\n",
    "            train_y, test_y = target.iloc[train_index], target.iloc[test_index]\n",
    "            train_X, test_X = train[feats].iloc[train_index, :], train[feats].iloc[test_index, :]\n",
    "    \n",
    "            dtrain = lgb.Dataset(train_X,\n",
    "                                 label=train_y)\n",
    "            dval = lgb.Dataset(test_X,\n",
    "                               label=test_y)\n",
    "\n",
    "            lgb_model = lgb.train(\n",
    "                parameters,\n",
    "                dtrain,\n",
    "                num_boost_round=8000,\n",
    "                valid_sets=[dval],\n",
    "                callbacks=[early_stopping(200), log_evaluation(200)],\n",
    "\n",
    "            )\n",
    "\n",
    "            oof_probs[test_index] = lgb_model.predict(test_X[feats], num_iteration=lgb_model.best_iteration) / len(\n",
    "                seeds)\n",
    "\n",
    "            offline_score.append(lgb_model.best_score['valid_0']['binary_logloss'])\n",
    "            output_preds += lgb_model.predict(test[feats],\n",
    "                                              num_iteration=lgb_model.best_iteration) / folds.n_splits / len(seeds)\n",
    "            print(offline_score)\n",
    "            # feature importance\n",
    "            fold_importance_df = pd.DataFrame()\n",
    "            fold_importance_df[\"feature\"] = feats\n",
    "            fold_importance_df[\"importance\"] = lgb_model.feature_importance(importance_type='gain')\n",
    "            fold_importance_df[\"fold\"] = i + 1\n",
    "            feature_importance_df = pd.concat([feature_importance_df, fold_importance_df], axis=0)\n",
    "    print('OOF-MEAN-AUC:%.6f, OOF-STD-AUC:%.6f' % (np.mean(offline_score), np.std(offline_score)))\n",
    "    print('feature importance:')\n",
    "    print(feature_importance_df.groupby(['feature'])['importance'].mean().sort_values(ascending=False).head(50))\n",
    "\n",
    "    return output_preds, oof_probs, np.mean(offline_score), feature_importance_df"
   ]
  },
  {
   "cell_type": "code",
   "execution_count": null,
   "metadata": {},
   "outputs": [],
   "source": [
    "print('开始模型训练train')\n",
    "lgb_preds, lgb_oof, lgb_score, feature_importance_df = lgb_model(train=train[feature_names],\n",
    "                                                                 target=train['label'],\n",
    "                                                                 test=test[feature_names], k=5,seed=22222)"
   ]
  },
  {
   "cell_type": "code",
   "execution_count": null,
   "metadata": {},
   "outputs": [],
   "source": [
    "# 调整阈值寻找线下最优f1\n",
    "from sklearn.metrics import f1_score\n",
    "\n",
    "val_pred = lgb_oof.copy()\n",
    "t0 = 0.1\n",
    "v = 0.001\n",
    "best_t = t0\n",
    "best_f1 = 0\n",
    "for step in range(3000):\n",
    "    curr_t = t0 + step * v\n",
    "    val_y = [1 if x >= curr_t else 0 for x in val_pred]\n",
    "    curr_f1 = f1_score(train['label'], val_y)\n",
    "    if curr_f1 > best_f1:\n",
    "        best_t = curr_t\n",
    "        best_f1 = curr_f1\n",
    "        print('step: {}   best threshold: {}   best f1: {}'.format(step, best_t, best_f1))\n",
    "print('search finish.')"
   ]
  },
  {
   "cell_type": "code",
   "execution_count": null,
   "metadata": {},
   "outputs": [],
   "source": [
    "from sklearn.metrics import roc_auc_score\n",
    "auc_p = roc_auc_score(train['label'], lgb_oof)\n",
    "print(0.3*auc_p+0.7*best_f1)"
   ]
  },
  {
   "cell_type": "code",
   "execution_count": 162,
   "metadata": {},
   "outputs": [],
   "source": [
    "label_pre=[1 if x >= 0.185 else 0 for x in lgb_preds]"
   ]
  },
  {
   "cell_type": "code",
   "execution_count": 163,
   "metadata": {},
   "outputs": [],
   "source": [
    "sub = pd.DataFrame()\n",
    "sub['id'] = test['id']\n",
    "sub['pred_prob'] = lgb_preds\n",
    "sub['pred_label'] = label_pre"
   ]
  },
  {
   "cell_type": "code",
   "execution_count": null,
   "metadata": {},
   "outputs": [],
   "source": [
    "sub"
   ]
  },
  {
   "cell_type": "code",
   "execution_count": 165,
   "metadata": {},
   "outputs": [],
   "source": [
    "#在output下创建GL文件夹 保存文件\n",
    "sub.to_csv('../output/GL/baseline.csv', index=False)"
   ]
  },
  {
   "cell_type": "code",
   "execution_count": null,
   "metadata": {},
   "outputs": [],
   "source": [
    "# 提交\n",
    "!castlecli --third local --token token(使用自己的token) --source ../output/GL/bs.csv"
   ]
  },
  {
   "cell_type": "code",
   "execution_count": null,
   "metadata": {},
   "outputs": [],
   "source": []
  }
 ],
 "metadata": {
  "kernelspec": {
   "display_name": "Python 3 (ipykernel)",
   "language": "python",
   "name": "python3"
  },
  "language_info": {
   "codemirror_mode": {
    "name": "ipython",
    "version": 3
   },
   "file_extension": ".py",
   "mimetype": "text/x-python",
   "name": "python",
   "nbconvert_exporter": "python",
   "pygments_lexer": "ipython3",
   "version": "3.7.5"
  }
 },
 "nbformat": 4,
 "nbformat_minor": 4
}
